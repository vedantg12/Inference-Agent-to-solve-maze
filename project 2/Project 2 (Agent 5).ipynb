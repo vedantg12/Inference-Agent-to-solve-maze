{
 "cells": [
  {
   "cell_type": "markdown",
   "id": "7e28e9c4",
   "metadata": {},
   "source": [
    "#### Importing Libraries"
   ]
  },
  {
   "cell_type": "code",
   "execution_count": 1,
   "id": "babdd265",
   "metadata": {},
   "outputs": [],
   "source": [
    "import random\n",
    "import numpy as np\n",
    "from tqdm import tqdm\n",
    "import matplotlib.pyplot as plt\n",
    "import math\n",
    "import time\n",
    "from sortedcontainers import SortedSet # Used for fringe in A star\n",
    "import queue\n",
    "from collections import deque "
   ]
  },
  {
   "cell_type": "markdown",
   "id": "9baa64f9",
   "metadata": {},
   "source": [
    "### ------------------------------------------------------------------------------------------------------------------------------"
   ]
  },
  {
   "cell_type": "markdown",
   "id": "98dbf9ff",
   "metadata": {},
   "source": [
    "#### Grid and Cell class"
   ]
  },
  {
   "cell_type": "code",
   "execution_count": 2,
   "id": "7a21dcb7",
   "metadata": {},
   "outputs": [],
   "source": [
    "# Class cell -> its the class of all the nodes in the grid, Each cell of the grid is defined as a object of type \n",
    "# cell.\n",
    "class cell:\n",
    "    def __init__(self,x,y): # Constructor for class cell\n",
    "        self.x = x # x coordinate of the cell\n",
    "        self.y = y # y coordinate of the cell\n",
    "        self.g = 0 # g value of the cell (the distance from start cell to curr cell)\n",
    "        self.h = 0 # h value of the cell (estimated value of the distance between curr cell and goal cell)\n",
    "        self.f = 0 # f value of the cell (f = g+h in A*, defines the priority of a node)\n",
    "        self.N_x = 0 # number of neighbors of cell x\n",
    "        self.visited = False # whether the cell has been visited by the inference agent or not keep this info across all repeated A* calls\n",
    "        self.C_x = -1 # number of neighbors sensed to be blocked\n",
    "        self.B_x = 0 # number of neighbors confirmed to be blocked\n",
    "        self.E_x = 0 # number of neighbors confirmed to be empty\n",
    "        self.H_x = 0 # number of cells still hidden or unconfirmed\n",
    "        self.blocked = False # Flag to indicate whether the cell is blocked or not\n",
    "        self.neighbors_updated = False # used to prevent unnecessary information update in the agent\n",
    "        self.prob = 0\n",
    "        self.min_Hx = 8\n",
    "        self.min_Hx_ind = ()\n",
    "    \n",
    "    def set_h_value(self, g_x, g_y, heuristic, weight):\n",
    "        '''This function is used to assign the heuristic value i.e. the h value and the f value to the calling \n",
    "           class object. It takes in the argument g_x = goal cell abscissa, g_y = goal cell ordinate, \n",
    "           heuristic = It defines the type of heuristic the A* problem is using, weight = this is for problem \n",
    "           number 9 where we test the effect of weights on the performance of repeated A* and normal A*.'''\n",
    "        if heuristic == 'm': \n",
    "            # Manhattan distance\n",
    "            self.h = weight * abs(g_x - self.x) + abs(g_y - self.y)\n",
    "            self.f = self.g + self.h + self.prob # also updating f inside this function\n",
    "        if heuristic == 'e':\n",
    "            # euclidean distance\n",
    "            self.h = weight * math.sqrt((g_x - self.x)**2 + (g_y - self.y)**2)\n",
    "            self.f = self.g + self.h + self.prob\n",
    "        if heuristic == 'c':\n",
    "            # chebyshev distance\n",
    "            self.h = weight * max(abs(g_x - self.x), abs(g_y - self.y))\n",
    "            self.f = self.g + self.h + self.prob\n",
    "        if heuristic == 'dec_weight_m':\n",
    "            # dec_weight_m manhattan distance is used as the heuristic\n",
    "            # Adaptive weight technique, nodes nearer to the goal cell are assigned lower weight and nodes farther\n",
    "            # away from the goal cell are assigned greater weights.\n",
    "            self.h = abs(g_x - self.x) + abs(g_y - self.y)\n",
    "            # if g < (2w-1)h then reduce the weight of g else reduce the weights of both g and h\n",
    "            if self.g < (2*weight - 1) * self.h: \n",
    "                self.f = self.g / (2*weight - 1) + self.h\n",
    "            else:\n",
    "                self.f = (self.g + self.h) / weight \n",
    "        if heuristic == 'dec_weight_e':\n",
    "            # dec_weight_e euclidean distance is used as the heuristic\n",
    "            self.h = math.sqrt((g_x - self.x)**2 + (g_y - self.y)**2)\n",
    "            # same exp as in dec_weight_m\n",
    "            if self.g < (2*weight - 1) * self.h:\n",
    "                self.f = self.g / (2*weight - 1) + self.h\n",
    "            else:\n",
    "                self.f = (self.g + self.h) / weight\n",
    "        if heuristic == 'dec_weight_c':\n",
    "            # chebyshev distance is used as the heuristic\n",
    "            self.h = max(abs(g_x - self.x), abs(g_y - self.y))\n",
    "            # same explanation as dec_weight_m\n",
    "            if self.g < (2*weight - 1) * self.h:\n",
    "                self.f = self.g / (2*weight - 1) + self.h\n",
    "            else:\n",
    "                self.f = (self.g + self.h) / weight\n",
    "        if heuristic == 'inc_weight_m':\n",
    "            # This is also an adaptive weight technique, but instead of decreasing weight as we move along the \n",
    "            # path, we assign more weight to h.\n",
    "            self.h = abs(g_x - self.x) + abs(g_y - self.y)\n",
    "            if self.g < self.h:\n",
    "                self.f = self.g + self.h\n",
    "            else:\n",
    "                self.f = self.g + (2*weight-1)*self.h \n",
    "        if heuristic == 'g':\n",
    "            # Toal greedy approach used in q4 to compare the speeds of A* and greedy best first search algorithm.\n",
    "            # manhattan distance is used as heuristic\n",
    "            self.h = abs(g_x - self.x) + abs(g_y - self.y)\n",
    "            self.f = self.h"
   ]
  },
  {
   "cell_type": "code",
   "execution_count": 3,
   "id": "4f2703be",
   "metadata": {},
   "outputs": [],
   "source": [
    "# Class grid_world -> This class is used to generate a grid world of dimension dim with each cell having \n",
    "# probability p of being blocked.\n",
    "class grid_world:\n",
    "    def __init__(self,p,dim):\n",
    "        self.p = p # probability with which the cell is blocked\n",
    "        self.dim = dim # dimension of the grid (dim x dim)\n",
    "    def gen_grid(self,matrix):\n",
    "        '''This function is used to generate the grid. The grid is returned in the form of list of list.'''\n",
    "        for i in range(self.dim): # looping over the dimension to generate rows of cells\n",
    "            a = [] # store a row of the grid of len dim\n",
    "            for j in range(self.dim): # looping over the dim to generate cols of cells\n",
    "                c = cell(i,j) # cell for coordinates (i,j)\n",
    "                chance = random.uniform(0,1) \n",
    "                # generating a random number between 0 and 1 from uniform distribution, if its less than p \n",
    "                # the cell is blocked else the cell is unblocked.\n",
    "                if i == 0 and j == 0: # [0,0] is the start cell location so don't want to block it, simply append\n",
    "                    # and continue.\n",
    "                    a.append(c)\n",
    "                    continue\n",
    "                if i == self.dim-1 and j == self.dim-1: #[dim-1, dim-1] is the goal cell location, so don't want to\n",
    "                    # block it simply append and continue\n",
    "                    a.append(c)\n",
    "                    continue\n",
    "                # if the number generated is less than or equal to p, block the cell.\n",
    "                if(chance <= self.p):\n",
    "                    c.blocked = True\n",
    "                        \n",
    "                a.append(c) # append the cell to the row\n",
    "            matrix.append(a) # append the row to the grid\n",
    "        return matrix # return the final grid"
   ]
  },
  {
   "cell_type": "code",
   "execution_count": 4,
   "id": "8d095466",
   "metadata": {},
   "outputs": [],
   "source": [
    "def gen_env(p, dim):\n",
    "    '''Function to generate the enviornment with probability of blockage p and dimension = dim x dim'''\n",
    "    temp = grid_world(p, dim)\n",
    "    grid = temp.gen_grid([])\n",
    "    return grid"
   ]
  },
  {
   "cell_type": "code",
   "execution_count": 5,
   "id": "5f74b53b",
   "metadata": {},
   "outputs": [],
   "source": [
    "def disp_grid(grid):\n",
    "    '''Since our grid is a list of list of cells simply printing it does not work. This function prints the \n",
    "    grid with blockage as x and a cell on which we can travel as -'''\n",
    "    l = []\n",
    "    for i in range(len(grid)):\n",
    "        a = []\n",
    "        for j in range(len(grid)):\n",
    "            if grid[i][j].blocked:\n",
    "                a.append('x')\n",
    "            else:\n",
    "                a.append('-')\n",
    "        l.append(a)\n",
    "    return l"
   ]
  },
  {
   "cell_type": "markdown",
   "id": "8278f2cf",
   "metadata": {},
   "source": [
    "### -----------------------------------------------------------------------------------------------------------------------------"
   ]
  },
  {
   "cell_type": "markdown",
   "id": "3112d537",
   "metadata": {},
   "source": [
    "#### Astar"
   ]
  },
  {
   "cell_type": "code",
   "execution_count": 6,
   "id": "8c30f4c7",
   "metadata": {},
   "outputs": [],
   "source": [
    "def Astar(grid,start_cell_ind,goal_cell_ind, heuristic, weight = 1):\n",
    "    cells_processed = 0 # number of cells popped from the fringe before reaching the goal.\n",
    "    number_of_clashes = 0 # number of time we had to update priorities in the fringe.\n",
    "    start_cell = grid[start_cell_ind[0]][start_cell_ind[1]] # start cell of our grid.\n",
    "    goal_cell = grid[goal_cell_ind[0]][goal_cell_ind[1]] # goal cell of our grid\n",
    "    open_list = SortedSet() # fringe, we have used sorted set as our priority queue\n",
    "    close_list = set() # contains cells already processed, have used set for this purpose (O(1) lookup on average)\n",
    "    parent_dict = {} # stores parent child relationship, using dictionary for this\n",
    "    visited = set() # child already visited, using set for this purpose (O(1) lookup on average)\n",
    "    start_cell.g = 0 # Setting the g value of the start cell to 0\n",
    "    # setting the h and f value of the start cell using the weight and heuristic passed in the function arguments.\n",
    "    # weight is for q9\n",
    "    start_cell.set_h_value(goal_cell_ind[0], goal_cell_ind[1], heuristic, weight)\n",
    "    open_list.add((start_cell.f, start_cell.h, (start_cell.x, start_cell.y))) # adding the start cell to the priority queue\n",
    "    # In the queue we are pushing a tuple whose first coordinate is the f value, second coordinate is the h value \n",
    "    # then a tuple containing the location of the cell. The priority is set according to the f value in case of a \n",
    "    # tie h value is seen.\n",
    "    visited.add((start_cell.x, start_cell.y)) # updating the visited set as we are pushing the node in priority queue\n",
    "    while len(open_list)>0: # loop over the priority queue until it is not empty or we reach the goal node\n",
    "        cl = open_list.pop(0) # pop the node with the least priority (it is at index 0 in the sorted set)\n",
    "        curr_cell = grid[cl[-1][0]][cl[-1][1]] # the last index in cl contains the x and y coordinates, \n",
    "        # storing the node popped from the queue in curr_cell.\n",
    "        cells_processed += 1 # incrementing the number of cells processed (since we just popped from the queue)\n",
    "        close_list.add((curr_cell.x, curr_cell.y)) # adding the node to the closed list as it is about to be processed\n",
    "        if curr_cell == goal_cell: \n",
    "            # If the curr cell is the goal cell return the path from the curr cell to goal cell by backtracking \n",
    "            # from goal cell to curr cell using the parent dictionary as well as all the nodes \n",
    "            # that have been processed uptil now.\n",
    "            path = []\n",
    "            curr = curr_cell\n",
    "            while (curr.x, curr.y) != (start_cell_ind[0], start_cell_ind[1]):\n",
    "                path.append([curr.x, curr.y])\n",
    "                curr = parent_dict[(curr.x, curr.y)]\n",
    "            path.append([curr.x,curr.y])\n",
    "            return path[::-1], cells_processed, number_of_clashes\n",
    "        \n",
    "        children = [] # This list is used to store all the possible valid children of the cell \n",
    "        # currently being processed.\n",
    "        for new_pos in [(0,1),(0,-1),(1,0),(-1,0)]: # 4 main compass directions, field of view also the agent can \n",
    "            # only move to these locations\n",
    "            node_pos = (curr_cell.x+new_pos[0], curr_cell.y+new_pos[1]) # position of the child\n",
    "            if(node_pos[0] > len(grid)-1 or node_pos[1] > len(grid)-1 or node_pos[0] < 0 or node_pos[1] < 0):\n",
    "                # if the child is not part of the grid continue\n",
    "                continue\n",
    "            if(grid[node_pos[0]][node_pos[1]].blocked):\n",
    "                # if the child is blocked continue\n",
    "                continue\n",
    "            if((node_pos[0], node_pos[1]) in close_list):\n",
    "                # if child is in close list continue\n",
    "                continue\n",
    "            if((node_pos[0], node_pos[1]) in visited):\n",
    "                # if the child is already visited then compare the previous cost(f) to the new cost(f) and if the\n",
    "                # new cost is lower update the priority of the child in the priority queue, update the \n",
    "                # parent dictionary and update the g value of the node.\n",
    "                if curr_cell.g + 1 + grid[node_pos[0]][node_pos[1]].h + grid[node_pos[0]][node_pos[1]].prob < grid[node_pos[0]][node_pos[1]].f:\n",
    "                    number_of_clashes += 1 # increment the number of clashes by 1\n",
    "                    # To update the priority we remove the node from the sorted set (O(logn)) and reinsert with \n",
    "                    # new priority O(log(n)). \n",
    "                    open_list.remove((grid[node_pos[0]][node_pos[1]].f, grid[node_pos[0]][node_pos[1]].h, (grid[node_pos[0]][node_pos[1]].x, grid[node_pos[0]][node_pos[1]].y)))\n",
    "                    grid[node_pos[0]][node_pos[1]].g = curr_cell.g+1\n",
    "                    grid[node_pos[0]][node_pos[1]].set_h_value(goal_cell_ind[0], goal_cell_ind[1], heuristic, weight)\n",
    "                    open_list.add((grid[node_pos[0]][node_pos[1]].f, grid[node_pos[0]][node_pos[1]].h, (grid[node_pos[0]][node_pos[1]].x, grid[node_pos[0]][node_pos[1]].y)))\n",
    "                    parent_dict[(node_pos[0],node_pos[1])] = curr_cell # updating the parent dictionary\n",
    "            else:\n",
    "                # If the child is not visited update its g value, set its h and f value and add it to the \n",
    "                # children list after updating its parent.\n",
    "                grid[node_pos[0]][node_pos[1]].g = curr_cell.g + 1\n",
    "                grid[node_pos[0]][node_pos[1]].set_h_value(goal_cell_ind[0], goal_cell_ind[1], heuristic, weight)\n",
    "                children.append(grid[node_pos[0]][node_pos[1]])\n",
    "                parent_dict[(node_pos[0],node_pos[1])] = curr_cell\n",
    "        if(children == []): # If no valid child continue\n",
    "            continue\n",
    "        for child in children: # else if valid children exist add them to the open list and update the visited set.\n",
    "            open_list.add((child.f,child.h, (child.x, child.y)))\n",
    "            visited.add((child.x, child.y))\n",
    "    \n",
    "    return [], 0, 0"
   ]
  },
  {
   "cell_type": "markdown",
   "id": "111aae19",
   "metadata": {},
   "source": [
    "### ------------------------------------------------------------------------------------------------------------------------------"
   ]
  },
  {
   "cell_type": "markdown",
   "id": "79803e8c",
   "metadata": {},
   "source": [
    "#### Explore path function"
   ]
  },
  {
   "cell_type": "code",
   "execution_count": 7,
   "id": "5c537354",
   "metadata": {},
   "outputs": [],
   "source": [
    "# function to explore the path returned by A* algorithm. Update the bot_env and final_discovered_grid_world \n",
    "def explore_path(path,bot_env ,grid, final_discovered_grid_world):\n",
    "    '''This functions helps move the agent along the path returned by A*. We update the bot enviornment and final \n",
    "    discovered grid world as the agent moves along the path. This function returns when the agent encounters a block \n",
    "    along the path or reaches the goal.'''\n",
    "    # path is a list of list -> [[0,0], [0,2]......]\n",
    "    for i in range(len(path)): # looping over the path list\n",
    "        x = path[i][0] # x coordinate of the cell in the path \n",
    "        y = path[i][1] # y coordinate of the cell in the path\n",
    "        # updating the information in the bot_env of the curr_cell\n",
    "        bot_env[x][y].x = grid[x][y].x\n",
    "        bot_env[x][y].y = grid[x][y].y\n",
    "        bot_env[x][y].blocked = grid[x][y].blocked\n",
    "        # updating the information in the final discovered grid world of the curr_cell\n",
    "        final_discovered_grid_world[x][y].x = grid[x][y].x\n",
    "        final_discovered_grid_world[x][y].y = grid[x][y].y\n",
    "        final_discovered_grid_world[x][y].blocked = grid[x][y].blocked\n",
    "        \n",
    "        if(grid[x][y].blocked): # if we encounter the blocked cell return the path till the last unblocked cell\n",
    "            return path[:i]\n",
    "        #this function is assumed that the agent has 4 main directions of a compass as field of view\n",
    "        for new_pos in [(0,1),(0,-1),(1,0),(-1,0)]: # In this loop we are updating the information in the bot_env\n",
    "            # and final_discovered_gridworld for all the valid children of curr cell.\n",
    "            node_pos = (x+new_pos[0], y+new_pos[1])#position of the child\n",
    "            if(node_pos[0] > len(grid)-1 or node_pos[1] > len(grid)-1 or node_pos[0] < 0 or node_pos[1] < 0):\n",
    "                # if the child is not part of the grid continue\n",
    "                continue\n",
    "            # update information for the child in bot_env and final discovered grid world.\n",
    "            bot_env[node_pos[0]][node_pos[1]].x = grid[node_pos[0]][node_pos[1]].x\n",
    "            bot_env[node_pos[0]][node_pos[1]].y = grid[node_pos[0]][node_pos[1]].y\n",
    "            bot_env[node_pos[0]][node_pos[1]].blocked = grid[node_pos[0]][node_pos[1]].blocked\n",
    "            final_discovered_grid_world[node_pos[0]][node_pos[1]].x = grid[node_pos[0]][node_pos[1]].x\n",
    "            final_discovered_grid_world[node_pos[0]][node_pos[1]].y = grid[node_pos[0]][node_pos[1]].y\n",
    "            final_discovered_grid_world[node_pos[0]][node_pos[1]].blocked = grid[node_pos[0]][node_pos[1]].blocked\n",
    "    return path"
   ]
  },
  {
   "cell_type": "code",
   "execution_count": 8,
   "id": "c4681e22",
   "metadata": {},
   "outputs": [],
   "source": [
    "#function to explore path returned by A* algorithm with limited field of view (the bot can only see in the direction of its movement along the path). \n",
    "def explore_path_with_limited_view(path,bot_env ,grid, final_discovered_grid_world):\n",
    "    '''\n",
    "    This function helps move the agent along the path returned by A* with unidirectional field of view. The bot environment\n",
    "    and final discovered grid world are updated with status of cells along the path traversed.\n",
    "    '''\n",
    "    for i in range(len(path)): #looping over path list\n",
    "        x = path[i][0] # x coordinate of the current node\n",
    "        y = path[i][1] # y coordinate of the current node\n",
    "        \n",
    "        #update the bot environment and final discovered grid \n",
    "        bot_env[x][y].x = grid[x][y].x \n",
    "        bot_env[x][y].y = grid[x][y].y\n",
    "        bot_env[x][y].blocked = grid[x][y].blocked\n",
    "        final_discovered_grid_world[x][y].x = grid[x][y].x\n",
    "        final_discovered_grid_world[x][y].y = grid[x][y].y\n",
    "        final_discovered_grid_world[x][y].blocked = grid[x][y].blocked\n",
    "        \n",
    "        if(grid[x][y].blocked): #if the current node is blocked node, return the path traversed till now.\n",
    "            return path[:i]\n",
    "    \n",
    "    return path"
   ]
  },
  {
   "cell_type": "markdown",
   "id": "ca6cf9e6",
   "metadata": {},
   "source": [
    "## -------------------------------------------------------------------------------------------------------"
   ]
  },
  {
   "cell_type": "markdown",
   "id": "d2e8c50f",
   "metadata": {},
   "source": [
    "#### Agent 3"
   ]
  },
  {
   "cell_type": "code",
   "execution_count": 9,
   "id": "d1b5cafa",
   "metadata": {},
   "outputs": [],
   "source": [
    "# function to explore the path returned by A* algorithm. Update the bot_env and final_discovered_grid_world \n",
    "def explore_path_new_agent(path,bot_env ,grid, final_discovered_grid_world, bumps):\n",
    "    '''This functions helps move the agent along the path returned by A*. We update the bot enviornment and final \n",
    "    discovered grid world as the agent moves along the path. This function returns when the agent encounters a block \n",
    "    along the path or reaches the goal.'''\n",
    "        \n",
    "    def update_neighbors(x, y, q, nodes_in_queue):\n",
    "        \n",
    "        if(final_discovered_grid_world[x][y].neighbors_updated == False):\n",
    "            \n",
    "            for new_pos in [(-1,-1),(-1,0),(-1,1),(0,-1),(0,1),(1,-1),(1,0),(1,1)]:\n",
    "                node_pos = (x+new_pos[0], y+new_pos[1])\n",
    "                if(node_pos[0] > len(grid)-1 or node_pos[1] > len(grid)-1 or node_pos[0] < 0 or node_pos[1] < 0):\n",
    "                    continue\n",
    "\n",
    "                if(final_discovered_grid_world[x][y].blocked):\n",
    "                    final_discovered_grid_world[node_pos[0]][node_pos[1]].B_x += 1\n",
    "                    final_discovered_grid_world[node_pos[0]][node_pos[1]].H_x -= 1\n",
    "                    bot_env[node_pos[0]][node_pos[1]].B_x += 1\n",
    "                    bot_env[node_pos[0]][node_pos[1]].H_x -= 1\n",
    "\n",
    "                else:\n",
    "                    final_discovered_grid_world[node_pos[0]][node_pos[1]].E_x += 1\n",
    "                    final_discovered_grid_world[node_pos[0]][node_pos[1]].H_x -= 1\n",
    "                    bot_env[node_pos[0]][node_pos[1]].E_x += 1\n",
    "                    bot_env[node_pos[0]][node_pos[1]].H_x -= 1\n",
    "                    \n",
    "                if((node_pos[0], node_pos[1]) not in nodes_in_queue):\n",
    "                    q.put(node_pos)\n",
    "                    nodes_in_queue.add((node_pos[0], node_pos[1]))\n",
    "                    \n",
    "            final_discovered_grid_world[x][y].neighbors_updated = True\n",
    "            bot_env[x][y].neighbors_updated = True\n",
    "        return q, nodes_in_queue\n",
    "    \n",
    "    # path is a list of list -> [[0,0], [0,2]......]\n",
    "    for i in range(len(path)): # looping over the path list\n",
    "        x = path[i][0] # x coordinate of the cell in the path \n",
    "        y = path[i][1] # y coordinate of the cell in the path\n",
    "        # updating the information in the bot_env of the curr_cell\n",
    "        bot_env[x][y].x = grid[x][y].x\n",
    "        bot_env[x][y].y = grid[x][y].y\n",
    "        bot_env[x][y].blocked = grid[x][y].blocked\n",
    "        # updating the information in the final discovered grid world of the curr_cell\n",
    "        final_discovered_grid_world[x][y].x = grid[x][y].x\n",
    "        final_discovered_grid_world[x][y].y = grid[x][y].y\n",
    "        final_discovered_grid_world[x][y].blocked = grid[x][y].blocked\n",
    "        \n",
    "        # If visiting for the first time sense neighbors and mark visited\n",
    "        num_of_child = 0\n",
    "        c_x = 0\n",
    "        if(final_discovered_grid_world[x][y].visited == False):\n",
    "            for new_pos in [(-1,-1),(-1,0),(-1,1),(0,-1),(0,1),(1,-1),(1,0),(1,1)]: \n",
    "                node_pos = (x+new_pos[0], y+new_pos[1])\n",
    "                if(node_pos[0] > len(grid)-1 or node_pos[1] > len(grid)-1 or node_pos[0] < 0 or node_pos[1] < 0):\n",
    "                    continue\n",
    "                num_of_child += 1\n",
    "                if(final_discovered_grid_world[x][y].blocked == False):\n",
    "                    if(grid[node_pos[0]][node_pos[1]].blocked):\n",
    "                        c_x += 1\n",
    "        \n",
    "            # Update N_x, C_x, H_x and mark visited\n",
    "            bot_env[x][y].N_x = num_of_child\n",
    "            if(bot_env[x][y].blocked == False):\n",
    "                bot_env[x][y].C_x = c_x\n",
    "            bot_env[x][y].visited = True\n",
    "            bot_env[x][y].H_x += num_of_child\n",
    "\n",
    "            final_discovered_grid_world[x][y].N_x = num_of_child\n",
    "            if(final_discovered_grid_world[x][y].blocked == False):\n",
    "                final_discovered_grid_world[x][y].C_x = c_x\n",
    "            final_discovered_grid_world[x][y].visited = True\n",
    "            final_discovered_grid_world[x][y].H_x += num_of_child\n",
    "        \n",
    "        q = queue.Queue()\n",
    "        q.put((x,y))\n",
    "        nodes_in_queue = set()\n",
    "        nodes_in_queue.add((x,y))\n",
    "        \n",
    "        if final_discovered_grid_world[x][y].C_x == -1:\n",
    "            q, nodes_in_queue = update_neighbors(x,y,q, nodes_in_queue)\n",
    "        \n",
    "        while(not q.empty()):\n",
    "            pos = q.get()\n",
    "            nodes_in_queue.remove((pos[0], pos[1]))\n",
    "            if (final_discovered_grid_world[pos[0]][pos[1]].C_x == -1):\n",
    "                continue\n",
    "            q, nodes_in_queue = update_neighbors(pos[0],pos[1],q, nodes_in_queue)\n",
    "            nodes_infered = knowledge_base(final_discovered_grid_world,bot_env,pos)\n",
    "            if len(nodes_infered) == 0:\n",
    "                continue\n",
    "            else:\n",
    "                for node in nodes_infered:\n",
    "                    if node in nodes_in_queue:\n",
    "                        continue\n",
    "                    else:\n",
    "                        nodes_in_queue.add(node)\n",
    "                        q.put(node)\n",
    "                        q, nodes_in_queue = update_neighbors(node[0], node[1], q, nodes_in_queue)\n",
    "        \n",
    "        \n",
    "        if(grid[x][y].blocked): # if we encounter the blocked cell return the path till the last unblocked cell\n",
    "            bumps += 1\n",
    "            return (path[:i], bumps)\n",
    "        else:\n",
    "            infered_block = False\n",
    "            for j in range(i+1,len(path)):\n",
    "                if bot_env[path[j][0]][path[j][1]].blocked:\n",
    "                    infered_block = True\n",
    "                    break\n",
    "                        \n",
    "            if(infered_block == True):\n",
    "                return (path[:i+1], bumps)\n",
    "    return (path, bumps)"
   ]
  },
  {
   "cell_type": "code",
   "execution_count": 10,
   "id": "eb9f375b",
   "metadata": {},
   "outputs": [],
   "source": [
    "def knowledge_base(final_discovered_grid_world, bot_env, node_pos):\n",
    "    \n",
    "    list_of_nodes_infered = set()\n",
    "    x = node_pos[0]\n",
    "    y = node_pos[1]\n",
    "    \n",
    "    if (final_discovered_grid_world[x][y].H_x == 0):\n",
    "        return list_of_nodes_infered\n",
    "    \n",
    "    if (final_discovered_grid_world[x][y].C_x == final_discovered_grid_world[x][y].B_x):\n",
    "        for new_pos in [(-1,-1),(-1,0),(-1,1),(0,-1),(0,1),(1,-1),(1,0),(1,1)]:\n",
    "            node_pos = (x+new_pos[0], y+new_pos[1])\n",
    "            if(node_pos[0] > len(bot_env)-1 or node_pos[1] > len(bot_env)-1 or node_pos[0] < 0 or node_pos[1] < 0):\n",
    "                continue\n",
    "            else:\n",
    "                if(bot_env[node_pos[0]][node_pos[1]].blocked):\n",
    "                    continue\n",
    "                if(final_discovered_grid_world[node_pos[0]][node_pos[1]].visited == True):\n",
    "                    continue\n",
    "                if(final_discovered_grid_world[node_pos[0]][node_pos[1]].neighbors_updated == True):\n",
    "                    continue\n",
    "                final_discovered_grid_world[node_pos[0]][node_pos[1]].blocked = False\n",
    "                list_of_nodes_infered.add((node_pos[0], node_pos[1]))\n",
    "        return list_of_nodes_infered\n",
    "    if (final_discovered_grid_world[x][y].N_x - final_discovered_grid_world[x][y].C_x == final_discovered_grid_world[x][y].E_x):\n",
    "        for new_pos in [(-1,-1),(-1,0),(-1,1),(0,-1),(0,1),(1,-1),(1,0),(1,1)]:\n",
    "            node_pos = (x+new_pos[0], y+new_pos[1])\n",
    "            if(node_pos[0] > len(bot_env)-1 or node_pos[1] > len(bot_env)-1 or node_pos[0] < 0 or node_pos[1] < 0):\n",
    "                continue\n",
    "            else:\n",
    "                if(final_discovered_grid_world[node_pos[0]][node_pos[1]].blocked == False):\n",
    "                    continue\n",
    "                if(bot_env[node_pos[0]][node_pos[1]].visited == True):\n",
    "                    continue\n",
    "                if(bot_env[node_pos[0]][node_pos[1]].neighbors_updated == True):\n",
    "                    continue\n",
    "                bot_env[node_pos[0]][node_pos[1]].blocked = True\n",
    "                list_of_nodes_infered.add((node_pos[0], node_pos[1]))\n",
    "        return list_of_nodes_infered\n",
    "    return list_of_nodes_infered"
   ]
  },
  {
   "cell_type": "markdown",
   "id": "d024cad9",
   "metadata": {},
   "source": [
    "## -------------------------------------------------------------------------------------------------------"
   ]
  },
  {
   "cell_type": "markdown",
   "id": "1a875a7b",
   "metadata": {},
   "source": [
    "#### Agent 4"
   ]
  },
  {
   "cell_type": "code",
   "execution_count": 11,
   "id": "66de62cd",
   "metadata": {},
   "outputs": [],
   "source": [
    "# kb should be an empty set during the first call out.\n",
    "def explore_path_new_agent_4(path,bot_env ,grid, final_discovered_grid_world, bumps, kb):\n",
    "    for i in range(len(path)): # looping over the path list\n",
    "        # Mark in final discovered and bot_env if the cell is blocked or unblocked also mark visited.\n",
    "        \n",
    "        x = path[i][0] # x coordinate of the cell in the path \n",
    "        y = path[i][1] # y coordinate of the cell in the path\n",
    "\n",
    "        bot_env[x][y].x = grid[x][y].x\n",
    "        bot_env[x][y].y = grid[x][y].y\n",
    "        bot_env[x][y].blocked = grid[x][y].blocked\n",
    "\n",
    "        final_discovered_grid_world[x][y].x = grid[x][y].x\n",
    "        final_discovered_grid_world[x][y].y = grid[x][y].y\n",
    "        final_discovered_grid_world[x][y].blocked = grid[x][y].blocked\n",
    "        \n",
    "        if(final_discovered_grid_world[x][y].visited == True):\n",
    "            continue\n",
    "            \n",
    "        final_discovered_grid_world[x][y].visited = True\n",
    "        bot_env[x][y].visited = True\n",
    "        # Calculate the C_x for the cell.\n",
    "        \n",
    "        c_x = 0\n",
    "        eqn_neighbors = [set(),0]\n",
    "        for new_pos in [(-1,-1),(-1,0),(-1,1),(0,-1),(0,1),(1,-1),(1,0),(1,1)]: \n",
    "            node_pos = (x+new_pos[0], y+new_pos[1])\n",
    "            if(node_pos[0] > len(grid)-1 or node_pos[1] > len(grid)-1 or node_pos[0] < 0 or node_pos[1] < 0):\n",
    "                continue\n",
    "\n",
    "            eqn_neighbors[0].add((node_pos[0], node_pos[1]))\n",
    "\n",
    "            if(grid[node_pos[0]][node_pos[1]].blocked):\n",
    "                eqn_neighbors[1] += 1\n",
    "                c_x += 1\n",
    "        \n",
    "        final_discovered_grid_world[x][y].C_x = c_x\n",
    "        bot_env[x][y].C_x = c_x\n",
    "        \n",
    "        \n",
    "        \n",
    "        eqn = [set(),0]\n",
    "        eqn[0].add((x,y))\n",
    "        if(grid[x][y].blocked):\n",
    "            eqn[1] += 1\n",
    "        \n",
    "        q = deque()\n",
    "        q.append(eqn.copy())\n",
    "\n",
    "        if(eqn_neighbors[1] == 0):\n",
    "            for tup in eqn_neighbors[0]:\n",
    "                t = [{tup}, 0]\n",
    "                q.append(t.copy())\n",
    "        elif(len(eqn_neighbors[0]) == eqn_neighbors[1]):\n",
    "            for tup in eqn_neighbors[0]:\n",
    "                t = [{tup}, 1]\n",
    "                q.append(t.copy())\n",
    "        else:\n",
    "            q.append(eqn_neighbors.copy())\n",
    "        \n",
    "        while(len(q)):\n",
    "            eqn_popped_from_q = q.popleft()\n",
    "            if(len(eqn_popped_from_q[0]) == 1):\n",
    "                ind = next(iter(eqn_popped_from_q[0]))\n",
    "                if(eqn_popped_from_q[1] == 0):\n",
    "                    final_discovered_grid_world[ind[0]][ind[1]].blocked = False\n",
    "                else:\n",
    "                    bot_env[ind[0]][ind[1]].blocked = True\n",
    "            else:\n",
    "                temp_eqn = eqn_popped_from_q[0].copy()\n",
    "                for node_pos in eqn_popped_from_q[0]:\n",
    "                    if(final_discovered_grid_world[node_pos[0]][node_pos[1]].blocked == False): \n",
    "                        temp_eqn.remove(node_pos)\n",
    "                    elif(bot_env[node_pos[0]][node_pos[1]].blocked == True):\n",
    "                        temp_eqn.remove(node_pos)\n",
    "                        eqn_popped_from_q[1] -= 1\n",
    "                \n",
    "                eqn_popped_from_q[0] = temp_eqn\n",
    "                if(len(eqn_popped_from_q[0]) == 0):\n",
    "                    continue\n",
    "                if(eqn_popped_from_q[1] == 0):\n",
    "                    for tup in eqn_popped_from_q[0]:\n",
    "                        tup1 = [{tup}, 0]\n",
    "                        q.appendleft(tup1)\n",
    "                    continue\n",
    "                elif(eqn_popped_from_q[1] == len(eqn_popped_from_q[0])):\n",
    "                    for tup in eqn_popped_from_q[0]:\n",
    "                        tup1 = [{tup}, 1]\n",
    "                        q.appendleft(tup1)\n",
    "                    continue \n",
    "            if(eqn_popped_from_q in kb):\n",
    "                continue\n",
    "            \n",
    "            q, sub_seq_flag = knowledge_base_agent_4_subsequence(final_discovered_grid_world, bot_env, eqn_popped_from_q, kb, q)\n",
    "            q, set_diff_flag = knowledge_base_agent_4_set_diff(final_discovered_grid_world, bot_env, eqn_popped_from_q, kb, q)\n",
    "            \n",
    "            if(sub_seq_flag or set_diff_flag):\n",
    "                continue\n",
    "            else:\n",
    "                if(len(eqn_popped_from_q[0]) == 1):\n",
    "                    continue\n",
    "                kb.append(eqn_popped_from_q)\n",
    "        \n",
    "        if(grid[x][y].blocked):\n",
    "            bumps += 1\n",
    "            return (path[:i], bumps, kb)\n",
    "        else:\n",
    "            infered_block = False\n",
    "            for j in range(i+1,len(path)):\n",
    "                if bot_env[path[j][0]][path[j][1]].blocked:\n",
    "                    infered_block = True\n",
    "                    break\n",
    "                        \n",
    "            if(infered_block == True):\n",
    "                return (path[:i+1], bumps, kb)\n",
    "    return (path, bumps, kb)"
   ]
  },
  {
   "cell_type": "code",
   "execution_count": 12,
   "id": "7f9d8ce9",
   "metadata": {},
   "outputs": [],
   "source": [
    "def knowledge_base_agent_4_subsequence(final_discovered_grid_world, bot_env, eqn, kb, q):\n",
    "    sub_seq_flag = False\n",
    "    for kb_eqn in kb:\n",
    "        if (len(kb_eqn[0]) >= len(eqn[0])):\n",
    "            if (eqn[0].issubset(kb_eqn[0]) == True):\n",
    "                kb.remove(kb_eqn)\n",
    "                kb_eqn[0] = kb_eqn[0].difference(eqn[0])\n",
    "                kb_eqn[1] = kb_eqn[1] - eqn[1]\n",
    "                if(len(kb_eqn[0]) == kb_eqn[1]):\n",
    "                    for i in kb_eqn[0]:\n",
    "                        t = [{i}, 1]\n",
    "                        q.appendleft(t)\n",
    "                elif(kb_eqn[1] == 0):\n",
    "                    for i in kb_eqn[0]:\n",
    "                        t = [{i}, 0]\n",
    "                        q.appendleft(t)\n",
    "                else:\n",
    "                    q.append(kb_eqn)\n",
    "        else:\n",
    "            temp = eqn\n",
    "            if (kb_eqn[0].issubset(temp[0]) == True):\n",
    "                temp[0] = temp[0].difference(kb_eqn[0])\n",
    "                temp[1] = temp[1] - kb_eqn[1]\n",
    "                sub_seq_flag = True\n",
    "                if(len(temp[0]) == temp[1]):\n",
    "                    for i in temp[0]:\n",
    "                        t = [{i}, 1]\n",
    "                        q.appendleft(t)\n",
    "                elif(len(temp[0]) == 0):\n",
    "                    for i in temp[0]:\n",
    "                        t = [{i}, 0]\n",
    "                        q.appendleft(t)\n",
    "                else:\n",
    "                    q.appendleft(temp)\n",
    "    return q, sub_seq_flag                "
   ]
  },
  {
   "cell_type": "code",
   "execution_count": 13,
   "id": "ae0ea1ce",
   "metadata": {},
   "outputs": [],
   "source": [
    "def knowledge_base_agent_4_set_diff(final_discovered_grid_world, bot_env, eqn, kb, q):\n",
    "    set_diff_flag = False\n",
    "    for kb_eqn in kb:\n",
    "        if kb_eqn[1] >= eqn[1]:\n",
    "            sd = kb_eqn[0].difference(eqn[0])\n",
    "            if(len(sd) == 0):\n",
    "                continue\n",
    "            if(len(sd) == kb_eqn[1]-eqn[1]):\n",
    "                set_diff_flag = True\n",
    "                for i in sd:\n",
    "                    t = [{i}, 1]\n",
    "                    q.appendleft(t)\n",
    "                for i in eqn[0].difference(kb_eqn[0]):\n",
    "                    t = [{i}, 0]\n",
    "                    q.appendleft(t)\n",
    "        else:\n",
    "            sd = eqn[0].difference(kb_eqn[0])\n",
    "            if(len(sd) == 0):\n",
    "                continue\n",
    "            if(len(sd) == eqn[1] - kb_eqn[1]):\n",
    "                set_diff_flag = True\n",
    "                for i in sd:\n",
    "                    t = [{i}, 1]\n",
    "                    q.appendleft(t)\n",
    "                for i in kb_eqn[0].difference(eqn[0]):\n",
    "                    t = [{i}, 0]\n",
    "                    q.appendleft(t)\n",
    "                    \n",
    "    return q, set_diff_flag"
   ]
  },
  {
   "cell_type": "markdown",
   "id": "fbd21bef",
   "metadata": {},
   "source": [
    "### -----------------------------------------------------------------------------------------------------------------------------"
   ]
  },
  {
   "cell_type": "markdown",
   "id": "6345c51c",
   "metadata": {},
   "source": [
    "#### Agent 5"
   ]
  },
  {
   "cell_type": "code",
   "execution_count": 14,
   "id": "f1045929",
   "metadata": {},
   "outputs": [],
   "source": [
    "# kb should be an empty set during the first call out.\n",
    "def explore_path_new_agent_5(path,bot_env ,grid, final_discovered_grid_world, bumps, kb):\n",
    "    def update_neighbors(x, y):\n",
    "        if(final_discovered_grid_world[x][y].neighbors_updated == False):\n",
    "            \n",
    "            for new_pos in [(-1,-1),(-1,0),(-1,1),(0,-1),(0,1),(1,-1),(1,0),(1,1)]:\n",
    "                node_pos = (x+new_pos[0], y+new_pos[1])\n",
    "                if(node_pos[0] > len(grid)-1 or node_pos[1] > len(grid)-1 or node_pos[0] < 0 or node_pos[1] < 0):\n",
    "                    continue\n",
    "\n",
    "                if(final_discovered_grid_world[x][y].blocked):\n",
    "                    final_discovered_grid_world[node_pos[0]][node_pos[1]].B_x += 1\n",
    "                    final_discovered_grid_world[node_pos[0]][node_pos[1]].H_x -= 1\n",
    "                    bot_env[node_pos[0]][node_pos[1]].B_x += 1\n",
    "                    bot_env[node_pos[0]][node_pos[1]].H_x -= 1\n",
    "                    if(final_discovered_grid_world[node_pos[0]][node_pos[1]].visited):\n",
    "                        update_neighbors_prob(node_pos[0], node_pos[1])\n",
    "                else:\n",
    "                    final_discovered_grid_world[node_pos[0]][node_pos[1]].E_x += 1\n",
    "                    final_discovered_grid_world[node_pos[0]][node_pos[1]].H_x -= 1\n",
    "                    bot_env[node_pos[0]][node_pos[1]].E_x += 1\n",
    "                    bot_env[node_pos[0]][node_pos[1]].H_x -= 1\n",
    "                    if(final_discovered_grid_world[node_pos[0]][node_pos[1]].visited):\n",
    "                        update_neighbors_prob(node_pos[0], node_pos[1])\n",
    "                    \n",
    "            final_discovered_grid_world[x][y].neighbors_updated = True\n",
    "            bot_env[x][y].neighbors_updated = True\n",
    "    \n",
    "    def update_neighbors_prob(x,y):\n",
    "        for new_pos in [(-1,-1),(-1,0),(-1,1),(0,-1),(0,1),(1,-1),(1,0),(1,1)]:\n",
    "                \n",
    "            node_pos = (x+new_pos[0], y+new_pos[1])\n",
    "            if(node_pos[0] > len(grid)-1 or node_pos[1] > len(grid)-1 or node_pos[0] < 0 or node_pos[1] < 0):\n",
    "                continue\n",
    "                \n",
    "            if(final_discovered_grid_world[node_pos[0]][node_pos[1]].blocked == False or bot_env[node_pos[0]][node_pos[1]].blocked == True):\n",
    "                continue\n",
    "               \n",
    "            new_hx = final_discovered_grid_world[x][y].H_x\n",
    "            old_hx = final_discovered_grid_world[node_pos[0]][node_pos[1]].min_Hx\n",
    "            \n",
    "            if new_hx < old_hx:\n",
    "                c_x = final_discovered_grid_world[x][y].C_x\n",
    "                b_x = final_discovered_grid_world[x][y].B_x\n",
    "                final_discovered_grid_world[node_pos[0]][node_pos[1]].min_Hx = new_hx\n",
    "                final_discovered_grid_world[node_pos[0]][node_pos[1]].prob = (c_x - b_x)/new_hx\n",
    "                final_discovered_grid_world[node_pos[0]][node_pos[1]].min_Hx_ind = (x,y)\n",
    "                bot_env[node_pos[0]][node_pos[1]].min_Hx = new_hx\n",
    "                bot_env[node_pos[0]][node_pos[1]].prob = (c_x - b_x)/new_hx\n",
    "                bot_env[node_pos[0]][node_pos[1]].min_Hx_ind = (x,y)\n",
    "            else:\n",
    "                continue\n",
    "    \n",
    "    for i in range(len(path)): # looping over the path list\n",
    "        # Mark in final discovered and bot_env if the cell is blocked or unblocked also mark visited.\n",
    "        \n",
    "        x = path[i][0] # x coordinate of the cell in the path \n",
    "        y = path[i][1] # y coordinate of the cell in the path\n",
    "\n",
    "        bot_env[x][y].x = grid[x][y].x\n",
    "        bot_env[x][y].y = grid[x][y].y\n",
    "        bot_env[x][y].blocked = grid[x][y].blocked\n",
    "\n",
    "        final_discovered_grid_world[x][y].x = grid[x][y].x\n",
    "        final_discovered_grid_world[x][y].y = grid[x][y].y\n",
    "        final_discovered_grid_world[x][y].blocked = grid[x][y].blocked\n",
    "        \n",
    "        if(final_discovered_grid_world[x][y].visited == True):\n",
    "            continue\n",
    "        \n",
    "        update_neighbors(x,y)\n",
    "            \n",
    "        final_discovered_grid_world[x][y].visited = True\n",
    "        bot_env[x][y].visited = True\n",
    "        # Calculate the C_x for the cell.\n",
    "        \n",
    "        c_x = 0\n",
    "        num_of_childs = 0\n",
    "        eqn_neighbors = [set(),0]\n",
    "        for new_pos in [(-1,-1),(-1,0),(-1,1),(0,-1),(0,1),(1,-1),(1,0),(1,1)]: \n",
    "            node_pos = (x+new_pos[0], y+new_pos[1])\n",
    "            if(node_pos[0] > len(grid)-1 or node_pos[1] > len(grid)-1 or node_pos[0] < 0 or node_pos[1] < 0):\n",
    "                continue\n",
    "            \n",
    "            num_of_childs += 1\n",
    "            eqn_neighbors[0].add((node_pos[0], node_pos[1]))\n",
    "\n",
    "            if(grid[node_pos[0]][node_pos[1]].blocked):\n",
    "                eqn_neighbors[1] += 1\n",
    "                c_x += 1\n",
    "        \n",
    "        final_discovered_grid_world[x][y].C_x = c_x\n",
    "        bot_env[x][y].C_x = c_x\n",
    "        final_discovered_grid_world[x][y].N_x = num_of_childs\n",
    "        final_discovered_grid_world[x][y].H_x += num_of_childs\n",
    "        if (final_discovered_grid_world[x][y].blocked == True):\n",
    "            final_discovered_grid_world[x][y].prob = 1\n",
    "            bot_env[x][y].prob = 1\n",
    "            update_neighbors_prob(x,y)\n",
    "        else:\n",
    "            final_discovered_grid_world[x][y].prob = 0\n",
    "            bot_env[x][y].prob = 0\n",
    "            update_neighbors_prob(x,y)\n",
    "        \n",
    "        \n",
    "        eqn = [set(),0]\n",
    "        eqn[0].add((x,y))\n",
    "        if(grid[x][y].blocked):\n",
    "            eqn[1] += 1\n",
    "        \n",
    "        q = deque()\n",
    "        q.append(eqn.copy())\n",
    "\n",
    "        if(eqn_neighbors[1] == 0):\n",
    "            for tup in eqn_neighbors[0]:\n",
    "                t = [{tup}, 0]\n",
    "                q.append(t.copy())\n",
    "        elif(len(eqn_neighbors[0]) == eqn_neighbors[1]):\n",
    "            for tup in eqn_neighbors[0]:\n",
    "                t = [{tup}, 1]\n",
    "                q.append(t.copy())\n",
    "        else:\n",
    "            q.append(eqn_neighbors.copy())\n",
    "        \n",
    "        while(len(q)):\n",
    "            eqn_popped_from_q = q.popleft()\n",
    "            if(len(eqn_popped_from_q[0]) == 1):\n",
    "                ind = next(iter(eqn_popped_from_q[0]))\n",
    "                if(eqn_popped_from_q[1] == 0):\n",
    "                    final_discovered_grid_world[ind[0]][ind[1]].blocked = False\n",
    "                    final_discovered_grid_world[ind[0]][ind[1]].prob = 0\n",
    "                    bot_env[ind[0]][ind[1]].prob = 0\n",
    "                    update_neighbors(ind[0], ind[1])\n",
    "                else:\n",
    "                    bot_env[ind[0]][ind[1]].blocked = True\n",
    "                    final_discovered_grid_world[ind[0]][ind[1]].prob = 1\n",
    "                    bot_env[ind[0]][ind[1]].prob = 1\n",
    "                    update_neighbors(ind[0], ind[1])\n",
    "                    \n",
    "            else: \n",
    "                temp_eqn = eqn_popped_from_q[0].copy()\n",
    "                for node_pos in eqn_popped_from_q[0]:\n",
    "                    if(final_discovered_grid_world[node_pos[0]][node_pos[1]].blocked == False): \n",
    "                        temp_eqn.remove(node_pos)\n",
    "                    elif(bot_env[node_pos[0]][node_pos[1]].blocked == True):\n",
    "                        temp_eqn.remove(node_pos)\n",
    "                        eqn_popped_from_q[1] -= 1\n",
    "                \n",
    "                eqn_popped_from_q[0] = temp_eqn\n",
    "                if(len(eqn_popped_from_q[0]) == 0):\n",
    "                    continue\n",
    "                if(eqn_popped_from_q[1] == 0):\n",
    "                    for tup in eqn_popped_from_q[0]:\n",
    "                        tup1 = [{tup}, 0]\n",
    "                        q.appendleft(tup1)\n",
    "                    continue\n",
    "                elif(eqn_popped_from_q[1] == len(eqn_popped_from_q[0])):\n",
    "                    for tup in eqn_popped_from_q[0]:\n",
    "                        tup1 = [{tup}, 1]\n",
    "                        q.appendleft(tup1)\n",
    "                    continue \n",
    "            if(eqn_popped_from_q in kb):\n",
    "                continue\n",
    "            \n",
    "            q, sub_seq_flag = knowledge_base_agent_4_subsequence(final_discovered_grid_world, bot_env, eqn_popped_from_q, kb, q)\n",
    "            q, set_diff_flag = knowledge_base_agent_4_set_diff(final_discovered_grid_world, bot_env, eqn_popped_from_q, kb, q)\n",
    "            \n",
    "            if(sub_seq_flag or set_diff_flag):\n",
    "                continue\n",
    "            else:\n",
    "                if(len(eqn_popped_from_q[0]) == 1):\n",
    "                    continue\n",
    "                kb.append(eqn_popped_from_q)\n",
    "        \n",
    "        if(grid[x][y].blocked):\n",
    "            bumps += 1\n",
    "            return (path[:i], bumps, kb)\n",
    "        else:\n",
    "            infered_block = False\n",
    "            for j in range(i+1,len(path)):\n",
    "                if bot_env[path[j][0]][path[j][1]].blocked:\n",
    "                    infered_block = True\n",
    "                    break\n",
    "                        \n",
    "            if(infered_block == True):\n",
    "                return (path[:i+1], bumps, kb)\n",
    "    return (path, bumps, kb)"
   ]
  },
  {
   "cell_type": "markdown",
   "id": "8ff154d3",
   "metadata": {},
   "source": [
    "#### Repeated A*"
   ]
  },
  {
   "cell_type": "code",
   "execution_count": 15,
   "id": "8e959b33",
   "metadata": {},
   "outputs": [],
   "source": [
    "# function to implement the A* algorithm\n",
    "def repeated_astar(bot_env, real_world_grid, start_cell_ind, goal_cell_ind, heuristic, final_discovered_grid_world, limited_view = False, weight=1, inf_bot = False):\n",
    "    '''\n",
    "    This function is the implementation of the repeated A* algorithm. This function calls A* algorithm whenver a \n",
    "    blocked cell is encountered along the path returned by A*.\n",
    "    '''\n",
    "    count = 0\n",
    "    bumps = 0\n",
    "    paths = [] # stores the path to be returned.\n",
    "    cp = 0  # keeps count of the total number of cells processed in each A* call.\n",
    "    #while the A* algorithm doesn't return a path or the maze is found to be not solvable \n",
    "    \n",
    "    kb = []\n",
    "    \n",
    "    planning_time = 0\n",
    "    nodes_disc = 0\n",
    "    while(1):\n",
    "        count += 1\n",
    "        t = time.time()\n",
    "        path, cells_processed, n_c = Astar(bot_env, start_cell_ind, goal_cell_ind, heuristic, weight) # call A* with current knowledge of the grid\n",
    "        planning_time += time.time() - t\n",
    "        cp += cells_processed # add the number of cells processed to the variable cp which keeps the total number of cells processed for each iteration of A*\n",
    "        if(path == []): # If A* doesn't return a path, path doesn't exist. Break from the loop and print \"Maze is not solvable\"\n",
    "            print(\"Maze is not solveable\")\n",
    "            break\n",
    "        else:  # If path exists, do this:\n",
    "            if not limited_view:\n",
    "                if not inf_bot:\n",
    "                    p = explore_path(path,bot_env,real_world_grid, final_discovered_grid_world) #explore path with complete field of view\n",
    "                else:\n",
    "                    if inf_bot == 3:\n",
    "                        p, bumps = explore_path_new_agent(path,bot_env,real_world_grid, final_discovered_grid_world, bumps)\n",
    "                    elif inf_bot == 4:\n",
    "                        p, bumps,kb = explore_path_new_agent_4(path,bot_env,real_world_grid, final_discovered_grid_world, bumps, kb)\n",
    "                    else:\n",
    "                        p, bumps,kb = explore_path_new_agent_5(path,bot_env,real_world_grid, final_discovered_grid_world, bumps, kb)\n",
    "            else:\n",
    "                p = explore_path_with_limited_view(path,bot_env,real_world_grid, final_discovered_grid_world) #explore path with limited view\n",
    "            paths.append(p)  # append the path returned to paths  \n",
    "            if p[-1] == goal_cell_ind: # if the last cell is goal cell, return paths, cells processed and added cost\n",
    "                for i in range(len(final_discovered_grid_world)):\n",
    "                    for j in range(len(final_discovered_grid_world[i])):\n",
    "                        if final_discovered_grid_world[i][j].blocked == False:\n",
    "                            nodes_disc += 1\n",
    "                for i in range(len(bot_env)):\n",
    "                    for j in range(len(bot_env)):\n",
    "                        if bot_env[i][j].blocked == True:\n",
    "                            nodes_disc += 1\n",
    "                return paths, cp, count, bumps, planning_time, nodes_disc, len(kb)\n",
    "            else:    # if the last cell is not goal cell\n",
    "                start_cell_ind = p[-1]"
   ]
  },
  {
   "cell_type": "code",
   "execution_count": 16,
   "id": "d3fd0b40",
   "metadata": {},
   "outputs": [],
   "source": [
    "#function to print path\n",
    "def print_path(paths):\n",
    "    '''\n",
    "    Function to print the path also we use it to get the final trajectory with backtracking taken by the agent. \n",
    "    '''\n",
    "    l = [[0,0]] # start from [0,0]\n",
    "    for path in paths: \n",
    "        l.extend(path[1:]) # extend the list with values of path \n",
    "    return l"
   ]
  },
  {
   "cell_type": "code",
   "execution_count": 17,
   "id": "39f9a82e",
   "metadata": {},
   "outputs": [],
   "source": [
    "def is_solveable(grid, start_cell_ind, goal_cell_ind):\n",
    "    '''This function tests the solvability of the grid passed in function argument by applying A* on that grid.\n",
    "       If A* returns a path the maze is solvable else it is not solvable. \n",
    "    '''\n",
    "    path, nodes_explored, n_c = Astar(grid, start_cell_ind, goal_cell_ind, 'm')\n",
    "    if path == []:\n",
    "        return False\n",
    "    else:\n",
    "        return True"
   ]
  },
  {
   "cell_type": "markdown",
   "id": "2a728378",
   "metadata": {},
   "source": [
    "### ------------------------------------------------------------------------------------------------------------------------------"
   ]
  },
  {
   "cell_type": "code",
   "execution_count": 18,
   "id": "44f744c4",
   "metadata": {},
   "outputs": [],
   "source": [
    "real_world_grid = gen_env(0.2,10)"
   ]
  },
  {
   "cell_type": "code",
   "execution_count": 19,
   "id": "c77833e6",
   "metadata": {},
   "outputs": [],
   "source": [
    "bot_env = gen_env(0,10)\n",
    "final_discovered_grid_world = gen_env(1,10)"
   ]
  },
  {
   "cell_type": "code",
   "execution_count": 20,
   "id": "aed3e670",
   "metadata": {},
   "outputs": [
    {
     "data": {
      "text/plain": [
       "[['-', '-', '-', '-', '-', '-', '-', 'x', '-', '-'],\n",
       " ['-', '-', '-', '-', '-', '-', 'x', 'x', '-', '-'],\n",
       " ['-', '-', '-', '-', 'x', 'x', '-', '-', '-', '-'],\n",
       " ['-', '-', '-', '-', '-', 'x', '-', 'x', 'x', 'x'],\n",
       " ['-', '-', '-', '-', '-', '-', 'x', '-', '-', '-'],\n",
       " ['-', '-', 'x', 'x', '-', '-', 'x', 'x', '-', 'x'],\n",
       " ['-', '-', '-', '-', '-', '-', '-', '-', '-', '-'],\n",
       " ['x', '-', '-', '-', '-', '-', '-', 'x', '-', '-'],\n",
       " ['-', 'x', 'x', '-', 'x', '-', '-', '-', '-', '-'],\n",
       " ['-', '-', '-', '-', '-', '-', 'x', 'x', '-', '-']]"
      ]
     },
     "execution_count": 20,
     "metadata": {},
     "output_type": "execute_result"
    }
   ],
   "source": [
    "disp_grid(real_world_grid)"
   ]
  },
  {
   "cell_type": "code",
   "execution_count": 21,
   "id": "7792c177",
   "metadata": {},
   "outputs": [
    {
     "data": {
      "text/plain": [
       "[['-', 'x', 'x', 'x', 'x', 'x', 'x', 'x', 'x', 'x'],\n",
       " ['x', 'x', 'x', 'x', 'x', 'x', 'x', 'x', 'x', 'x'],\n",
       " ['x', 'x', 'x', 'x', 'x', 'x', 'x', 'x', 'x', 'x'],\n",
       " ['x', 'x', 'x', 'x', 'x', 'x', 'x', 'x', 'x', 'x'],\n",
       " ['x', 'x', 'x', 'x', 'x', 'x', 'x', 'x', 'x', 'x'],\n",
       " ['x', 'x', 'x', 'x', 'x', 'x', 'x', 'x', 'x', 'x'],\n",
       " ['x', 'x', 'x', 'x', 'x', 'x', 'x', 'x', 'x', 'x'],\n",
       " ['x', 'x', 'x', 'x', 'x', 'x', 'x', 'x', 'x', 'x'],\n",
       " ['x', 'x', 'x', 'x', 'x', 'x', 'x', 'x', 'x', 'x'],\n",
       " ['x', 'x', 'x', 'x', 'x', 'x', 'x', 'x', 'x', '-']]"
      ]
     },
     "execution_count": 21,
     "metadata": {},
     "output_type": "execute_result"
    }
   ],
   "source": [
    "disp_grid(final_discovered_grid_world)"
   ]
  },
  {
   "cell_type": "code",
   "execution_count": 22,
   "id": "daf51bbe",
   "metadata": {},
   "outputs": [
    {
     "data": {
      "text/plain": [
       "[['-', '-', '-', '-', '-', '-', '-', '-', '-', '-'],\n",
       " ['-', '-', '-', '-', '-', '-', '-', '-', '-', '-'],\n",
       " ['-', '-', '-', '-', '-', '-', '-', '-', '-', '-'],\n",
       " ['-', '-', '-', '-', '-', '-', '-', '-', '-', '-'],\n",
       " ['-', '-', '-', '-', '-', '-', '-', '-', '-', '-'],\n",
       " ['-', '-', '-', '-', '-', '-', '-', '-', '-', '-'],\n",
       " ['-', '-', '-', '-', '-', '-', '-', '-', '-', '-'],\n",
       " ['-', '-', '-', '-', '-', '-', '-', '-', '-', '-'],\n",
       " ['-', '-', '-', '-', '-', '-', '-', '-', '-', '-'],\n",
       " ['-', '-', '-', '-', '-', '-', '-', '-', '-', '-']]"
      ]
     },
     "execution_count": 22,
     "metadata": {},
     "output_type": "execute_result"
    }
   ],
   "source": [
    "disp_grid(bot_env)"
   ]
  },
  {
   "cell_type": "code",
   "execution_count": 23,
   "id": "b965b899",
   "metadata": {},
   "outputs": [],
   "source": [
    "l = []\n",
    "for i in range(len(final_discovered_grid_world)):\n",
    "    a = []\n",
    "    for j in range(len(final_discovered_grid_world[i])):\n",
    "        a.append(final_discovered_grid_world[i][j].prob)\n",
    "    l.append(a)"
   ]
  },
  {
   "cell_type": "code",
   "execution_count": 24,
   "id": "460e99ce",
   "metadata": {},
   "outputs": [
    {
     "data": {
      "text/plain": [
       "[[0, 0, 0, 0, 0, 0, 0, 0, 0, 0],\n",
       " [0, 0, 0, 0, 0, 0, 0, 0, 0, 0],\n",
       " [0, 0, 0, 0, 0, 0, 0, 0, 0, 0],\n",
       " [0, 0, 0, 0, 0, 0, 0, 0, 0, 0],\n",
       " [0, 0, 0, 0, 0, 0, 0, 0, 0, 0],\n",
       " [0, 0, 0, 0, 0, 0, 0, 0, 0, 0],\n",
       " [0, 0, 0, 0, 0, 0, 0, 0, 0, 0],\n",
       " [0, 0, 0, 0, 0, 0, 0, 0, 0, 0],\n",
       " [0, 0, 0, 0, 0, 0, 0, 0, 0, 0],\n",
       " [0, 0, 0, 0, 0, 0, 0, 0, 0, 0]]"
      ]
     },
     "execution_count": 24,
     "metadata": {},
     "output_type": "execute_result"
    }
   ],
   "source": [
    "l"
   ]
  },
  {
   "cell_type": "code",
   "execution_count": 25,
   "id": "ba8adea1",
   "metadata": {
    "scrolled": true
   },
   "outputs": [
    {
     "data": {
      "text/plain": [
       "([[[0, 0], [0, 1], [0, 2], [0, 3], [0, 4], [0, 5], [0, 6]],\n",
       "  [[0, 6], [0, 5], [1, 5]],\n",
       "  [[1, 5], [1, 4]],\n",
       "  [[1, 4], [1, 3], [2, 3], [3, 3], [4, 3], [4, 4], [4, 5]],\n",
       "  [[4, 5],\n",
       "   [5, 5],\n",
       "   [6, 5],\n",
       "   [6, 6],\n",
       "   [6, 7],\n",
       "   [6, 8],\n",
       "   [6, 9],\n",
       "   [7, 9],\n",
       "   [8, 9],\n",
       "   [9, 9]]],\n",
       " 81,\n",
       " 5,\n",
       " 3,\n",
       " 0.004807710647583008,\n",
       " 55,\n",
       " 1)"
      ]
     },
     "execution_count": 25,
     "metadata": {},
     "output_type": "execute_result"
    }
   ],
   "source": [
    "repeated_astar(bot_env, real_world_grid, [0,0], [9,9], 'm', final_discovered_grid_world, False, 1, 5)"
   ]
  },
  {
   "cell_type": "markdown",
   "id": "c97931c9",
   "metadata": {},
   "source": [
    "### ------------------------------------------------------------------------------------------------------------------------------"
   ]
  },
  {
   "cell_type": "markdown",
   "id": "9bb27e1e",
   "metadata": {},
   "source": [
    "#### COMPARING ALL THE AGENTS"
   ]
  },
  {
   "cell_type": "code",
   "execution_count": 96,
   "id": "66eb6478",
   "metadata": {
    "scrolled": true
   },
   "outputs": [
    {
     "name": "stderr",
     "output_type": "stream",
     "text": [
      " 17%|█▋        | 2/12 [02:18<11:44, 70.49s/it]"
     ]
    },
    {
     "ename": "KeyboardInterrupt",
     "evalue": "",
     "output_type": "error",
     "traceback": [
      "\u001b[0;31m---------------------------------------------------------------------------\u001b[0m",
      "\u001b[0;31mKeyboardInterrupt\u001b[0m                         Traceback (most recent call last)",
      "\u001b[0;32m<ipython-input-96-848a8f062398>\u001b[0m in \u001b[0;36m<module>\u001b[0;34m\u001b[0m\n\u001b[1;32m    182\u001b[0m             \u001b[0mbumps_q7_bfs\u001b[0m \u001b[0;34m+=\u001b[0m \u001b[0mbumps\u001b[0m\u001b[0;34m\u001b[0m\u001b[0;34m\u001b[0m\u001b[0m\n\u001b[1;32m    183\u001b[0m             \u001b[0mtrajectory_length\u001b[0m \u001b[0;34m=\u001b[0m \u001b[0mlen\u001b[0m\u001b[0;34m(\u001b[0m\u001b[0mprint_path\u001b[0m\u001b[0;34m(\u001b[0m\u001b[0mpath\u001b[0m\u001b[0;34m)\u001b[0m\u001b[0;34m)\u001b[0m\u001b[0;34m\u001b[0m\u001b[0;34m\u001b[0m\u001b[0m\n\u001b[0;32m--> 184\u001b[0;31m             \u001b[0mpath_length_q7_bfs\u001b[0m \u001b[0;34m+=\u001b[0m \u001b[0mlen\u001b[0m\u001b[0;34m(\u001b[0m\u001b[0mAstar\u001b[0m\u001b[0;34m(\u001b[0m\u001b[0mfinal_discovered_grid_world\u001b[0m\u001b[0;34m,\u001b[0m\u001b[0;34m[\u001b[0m\u001b[0;36m0\u001b[0m\u001b[0;34m,\u001b[0m\u001b[0;36m0\u001b[0m\u001b[0;34m]\u001b[0m\u001b[0;34m,\u001b[0m\u001b[0;34m[\u001b[0m\u001b[0;36m100\u001b[0m\u001b[0;34m,\u001b[0m\u001b[0;36m100\u001b[0m\u001b[0;34m]\u001b[0m\u001b[0;34m,\u001b[0m\u001b[0;34m'm'\u001b[0m\u001b[0;34m)\u001b[0m\u001b[0;34m[\u001b[0m\u001b[0;36m0\u001b[0m\u001b[0;34m]\u001b[0m\u001b[0;34m)\u001b[0m\u001b[0;34m\u001b[0m\u001b[0;34m\u001b[0m\u001b[0m\n\u001b[0m\u001b[1;32m    185\u001b[0m             \u001b[0mtl_q7_bfs\u001b[0m \u001b[0;34m+=\u001b[0m \u001b[0mtrajectory_length\u001b[0m\u001b[0;34m\u001b[0m\u001b[0;34m\u001b[0m\u001b[0m\n\u001b[1;32m    186\u001b[0m             \u001b[0mcell_processed_q7_bfs\u001b[0m \u001b[0;34m+=\u001b[0m \u001b[0mcp\u001b[0m\u001b[0;34m\u001b[0m\u001b[0;34m\u001b[0m\u001b[0m\n",
      "\u001b[0;32m<ipython-input-6-3e4d2626170d>\u001b[0m in \u001b[0;36mAstar\u001b[0;34m(grid, start_cell_ind, goal_cell_ind, heuristic, weight)\u001b[0m\n\u001b[1;32m     19\u001b[0m     \u001b[0;32mwhile\u001b[0m \u001b[0mlen\u001b[0m\u001b[0;34m(\u001b[0m\u001b[0mopen_list\u001b[0m\u001b[0;34m)\u001b[0m\u001b[0;34m>\u001b[0m\u001b[0;36m0\u001b[0m\u001b[0;34m:\u001b[0m \u001b[0;31m# loop over the priority queue until it is not empty or we reach the goal node\u001b[0m\u001b[0;34m\u001b[0m\u001b[0;34m\u001b[0m\u001b[0m\n\u001b[1;32m     20\u001b[0m         \u001b[0mcl\u001b[0m \u001b[0;34m=\u001b[0m \u001b[0mopen_list\u001b[0m\u001b[0;34m.\u001b[0m\u001b[0mpop\u001b[0m\u001b[0;34m(\u001b[0m\u001b[0;36m0\u001b[0m\u001b[0;34m)\u001b[0m \u001b[0;31m# pop the node with the least priority (it is at index 0 in the sorted set)\u001b[0m\u001b[0;34m\u001b[0m\u001b[0;34m\u001b[0m\u001b[0m\n\u001b[0;32m---> 21\u001b[0;31m         \u001b[0mcurr_cell\u001b[0m \u001b[0;34m=\u001b[0m \u001b[0mgrid\u001b[0m\u001b[0;34m[\u001b[0m\u001b[0mcl\u001b[0m\u001b[0;34m[\u001b[0m\u001b[0;34m-\u001b[0m\u001b[0;36m1\u001b[0m\u001b[0;34m]\u001b[0m\u001b[0;34m[\u001b[0m\u001b[0;36m0\u001b[0m\u001b[0;34m]\u001b[0m\u001b[0;34m]\u001b[0m\u001b[0;34m[\u001b[0m\u001b[0mcl\u001b[0m\u001b[0;34m[\u001b[0m\u001b[0;34m-\u001b[0m\u001b[0;36m1\u001b[0m\u001b[0;34m]\u001b[0m\u001b[0;34m[\u001b[0m\u001b[0;36m1\u001b[0m\u001b[0;34m]\u001b[0m\u001b[0;34m]\u001b[0m \u001b[0;31m# the last index in cl contains the x and y coordinates,\u001b[0m\u001b[0;34m\u001b[0m\u001b[0;34m\u001b[0m\u001b[0m\n\u001b[0m\u001b[1;32m     22\u001b[0m         \u001b[0;31m# storing the node popped from the queue in curr_cell.\u001b[0m\u001b[0;34m\u001b[0m\u001b[0;34m\u001b[0m\u001b[0;34m\u001b[0m\u001b[0m\n\u001b[1;32m     23\u001b[0m         \u001b[0mcells_processed\u001b[0m \u001b[0;34m+=\u001b[0m \u001b[0;36m1\u001b[0m \u001b[0;31m# incrementing the number of cells processed (since we just popped from the queue)\u001b[0m\u001b[0;34m\u001b[0m\u001b[0;34m\u001b[0m\u001b[0m\n",
      "\u001b[0;31mKeyboardInterrupt\u001b[0m: "
     ]
    }
   ],
   "source": [
    "p = 0 \n",
    "\n",
    "\n",
    "avg_trajectory_length_normal_agent = [] # This variable stores the average trajectory length we got for 1000 solvable mazes for each value of p\n",
    "avg_cell_processed_normal_agent = [] # This variable stores the average number of cells processed for 1000 solvable mazes for each value of p\n",
    "average_trajectory_sp_dg_normal_agent = [] # This variable stores the average ratio of trajectory length by shortest path in discovered grid world we got for 1000 solvable mazes for each value of p\n",
    "average_sp_dg_sp_cg_normal_agent = [] # This variable stores the average ratio of shortest path in discovered grid by shortest path in complete grid world world we got for 1000 solvable mazes for each value of p\n",
    "average_time_normal_agent = []\n",
    "average_bumps_normal_agent = []\n",
    "average_planning_time_normal_agent = []\n",
    "average_nodes_disc_normal_agent = []\n",
    "average_path_length_normal_agent = []\n",
    "\n",
    "# stores diff p values used for plotting\n",
    "p_list = []\n",
    "\n",
    "\n",
    "avg_trajectory_length_blind_agent = []\n",
    "avg_cell_processed_blind_agent = []\n",
    "average_trajectory_sp_dg_blind_agent = []\n",
    "average_sp_dg_sp_cg_blind_agent = []\n",
    "average_time_blind_agent = []\n",
    "average_bumps_blind_agent = []\n",
    "average_planning_time_blind_agent = []\n",
    "average_nodes_disc_blind_agent = []\n",
    "average_path_length_blind_agent = []\n",
    "\n",
    "avg_trajectory_length_agent3 = []\n",
    "avg_cell_processed_agent3 = []\n",
    "average_trajectory_sp_dg_agent3 = []\n",
    "average_sp_dg_sp_cg_agent3 = []\n",
    "average_time_agent_3 = []\n",
    "average_bumps_agent3 = []\n",
    "average_planning_time_agent3 = []\n",
    "average_nodes_disc_agent3 = []\n",
    "average_path_length_agent3 = []\n",
    "\n",
    "avg_trajectory_length_agent4 = []\n",
    "avg_cell_processed_agent4 = []\n",
    "average_trajectory_sp_dg_agent4 = []\n",
    "average_sp_dg_sp_cg_agent4 = []\n",
    "average_time_agent_4 = []\n",
    "average_bumps_agent4 = []\n",
    "average_planning_time_agent4 = []\n",
    "average_nodes_disc_agent4 = []\n",
    "average_path_length_agent4 = []\n",
    "average_len_kb = []\n",
    "\n",
    "avg_trajectory_length_agent5 = []\n",
    "avg_cell_processed_agent5 = []\n",
    "average_trajectory_sp_dg_agent5 = []\n",
    "average_sp_dg_sp_cg_agent5 = []\n",
    "average_time_agent_5 = []\n",
    "average_bumps_agent5 = []\n",
    "average_planning_time_agent5 = []\n",
    "average_nodes_disc_agent5 = []\n",
    "average_path_length_agent5 = []\n",
    "average_len_kb = []\n",
    "\n",
    "\n",
    "pbar = tqdm(total = 12) # initializing a progress bar with max of 31 iterations\n",
    "while(p <= 0.33): # while p is less than equal to 0.31 calculate the above matrics for each p and store them in their respective variables\n",
    "    solve_count = 0 # we use this variable to maintain count of number of solvable matrices generated we terminate for each p when this count reaches 1000\n",
    "    trajectory_length = 0 # used to store the trajectory length we got after solving the grid\n",
    "    \n",
    "    # below four variables are for q6\n",
    "    tl_q6 = 0 # to store the sum of trajectory length we got for all 1000 grids\n",
    "    cell_processed_q6 = 0 # to store the sum of number of processed cell we got for all 1000 grid\n",
    "    tl_sp_dg_q6 = 0 # to store the sum of ratio of trajectory length with shortest path in discovered grid world we got for all 1000 grids\n",
    "    sp_dg_sp_cg_q6 = 0 # to store the sum of ratio of shortest path in complete grid world with shortest path in discovered grid world we got for all 1000 grids\n",
    "    bumps_q6 = 0\n",
    "    time_q6 = 0\n",
    "    planning_time_q6 = 0\n",
    "    nodes_disc_q6 = 0\n",
    "    path_length_q6 = 0\n",
    "    \n",
    "    # below four variables are for q7\n",
    "    tl_q7 = 0\n",
    "    cell_processed_q7 = 0\n",
    "    tl_sp_dg_q7 = 0\n",
    "    sp_dg_sp_cg_q7 = 0\n",
    "    bumps_q7 = 0\n",
    "    time_q7 = 0\n",
    "    planning_time_q7 = 0\n",
    "    nodes_disc_q7 = 0\n",
    "    path_length_q7 = 0\n",
    "    \n",
    "    # below four variables store the sum when we apply repeated bfs on q6\n",
    "    tl_q6_bfs = 0\n",
    "    cell_processed_q6_bfs = 0\n",
    "    tl_sp_dg_q6_bfs = 0\n",
    "    sp_dg_sp_cg_q6_bfs = 0\n",
    "    bumps_q6_bfs = 0\n",
    "    time_q6_bfs = 0\n",
    "    planning_time_q6_bfs = 0\n",
    "    nodes_disc_q6_bfs = 0\n",
    "    path_length_q6_bfs = 0\n",
    "    \n",
    "    tl_q7_bfs = 0\n",
    "    cell_processed_q7_bfs = 0\n",
    "    tl_sp_dg_q7_bfs = 0\n",
    "    sp_dg_sp_cg_q7_bfs = 0\n",
    "    bumps_q7_bfs = 0\n",
    "    time_q7_bfs = 0\n",
    "    planning_time_q7_bfs = 0\n",
    "    nodes_disc_q7_bfs = 0\n",
    "    path_length_q7_bfs = 0\n",
    "    len_kb_q7_bfs = 0\n",
    "    \n",
    "    tl_q8_bfs = 0\n",
    "    cell_processed_q8_bfs = 0\n",
    "    tl_sp_dg_q8_bfs = 0\n",
    "    sp_dg_sp_cg_q8_bfs = 0\n",
    "    bumps_q8_bfs = 0\n",
    "    time_q8_bfs = 0\n",
    "    planning_time_q8_bfs = 0\n",
    "    nodes_disc_q8_bfs = 0\n",
    "    path_length_q8_bfs = 0\n",
    "    len_kb_q8_bfs = 0\n",
    "    \n",
    "    \n",
    "    \n",
    "    while(solve_count < 200): # while the count of solvable grids are less than 1000 for each value of p go in the loop\n",
    "        real_world_grid = gen_env(p,101) # generate a grid with dim 101 and density p\n",
    "        if(is_solveable(real_world_grid, [0,0], [100,100])): # if the grid is solvable do the processing else continue till you get a solvable grid\n",
    "            solve_count += 1 # increment the count of solvable grids\n",
    "            \n",
    "            bot_env = gen_env(0,101) # generate bot env to apply repeated A* on\n",
    "            final_discovered_grid_world = gen_env(1,101) # generate the final_discovered_gridworld to be updated in repeated A*\n",
    "            t = time.time()\n",
    "            path,cp, count, bumps, planning_time,nodes_disc, kb_len = repeated_astar(bot_env, real_world_grid, [0,0], [100,100], 'm', final_discovered_grid_world, False, 1, False) # apply repeated A* with complete field of view on the grid\n",
    "            nodes_disc_q6 += nodes_disc\n",
    "            planning_time_q6 += planning_time\n",
    "            time_q6 += time.time()-t\n",
    "            bumps_q6 += count-1\n",
    "            trajectory_length = len(print_path(path)) # we use print path to get the final trajectory and store its length in the trajectory length variable for a single grid.\n",
    "            path_length_q6 += len(Astar(final_discovered_grid_world,[0,0],[100,100],'m')[0])\n",
    "            tl_q6 += trajectory_length # sum of all trajectory lengths uptil now\n",
    "            cell_processed_q6 += cp # summ of all cells processed uptil now\n",
    "            tl_sp_dg_q6 += trajectory_length/len(Astar(final_discovered_grid_world,[0,0],[100,100], 'm', weight=1)[0]) # sum of ratio uptil now, we find the shortest path by applying A* on the grid\n",
    "            sp_dg_sp_cg_q6 += len(Astar(final_discovered_grid_world,[0,0],[100,100], 'm',weight=1)[0])/ len(Astar(real_world_grid,[0,0],[100,100], 'm', weight=1)[0]) # sum of ratio uptil now\n",
    "            \n",
    "            \n",
    "            bot_env = gen_env(0,101)\n",
    "            final_discovered_grid_world = gen_env(1,101)\n",
    "            t = time.time()\n",
    "            path,cp, count, bumps, planning_time, nodes_disc, kb_len = repeated_astar(bot_env, real_world_grid, [0,0], [100,100], 'm', final_discovered_grid_world, True, 1, False) # Apply A* with limited field of view, we have set the limited_view flag as True\n",
    "            nodes_disc_q7 += nodes_disc\n",
    "            planning_time_q7 += planning_time\n",
    "            time_q7 += time.time()-t\n",
    "            bumps_q7 += count-1\n",
    "            trajectory_length = len(print_path(path))\n",
    "            path_length_q7 += len(Astar(final_discovered_grid_world,[0,0],[100,100],'m')[0])\n",
    "            tl_q7 += trajectory_length\n",
    "            cell_processed_q7 += cp\n",
    "            tl_sp_dg_q7 += trajectory_length/len(Astar(final_discovered_grid_world,[0,0],[100,100], 'm', weight=1)[0])\n",
    "            sp_dg_sp_cg_q7 += len(Astar(final_discovered_grid_world,[0,0],[100,100], 'm',weight=1)[0])/ len(Astar(real_world_grid,[0,0],[100,100], 'm', weight=1)[0])\n",
    "            \n",
    "            bot_env = gen_env(0,101)\n",
    "            final_discovered_grid_world = gen_env(1,101)\n",
    "            t = time.time()\n",
    "            path,cp, count, bumps, planning_time, nodes_disc, kb_len = repeated_astar(bot_env, real_world_grid, [0,0], [100,100], 'm', final_discovered_grid_world, False, 1, 3)\n",
    "            nodes_disc_q6_bfs += nodes_disc\n",
    "            planning_time_q6_bfs += planning_time\n",
    "            time_q6_bfs += time.time()-t\n",
    "            bumps_q6_bfs += bumps\n",
    "            trajectory_length = len(print_path(path))\n",
    "            path_length_q6_bfs += len(Astar(final_discovered_grid_world,[0,0],[100,100],'m')[0])\n",
    "            tl_q6_bfs += trajectory_length\n",
    "            cell_processed_q6_bfs += cp\n",
    "            tl_sp_dg_q6_bfs += trajectory_length/len(Astar(final_discovered_grid_world,[0,0],[100,100], 'm', weight=1)[0])\n",
    "            sp_dg_sp_cg_q6_bfs += len(Astar(final_discovered_grid_world,[0,0],[100,100], 'm',weight=1)[0])/ len(Astar(real_world_grid,[0,0],[100,100], 'm', weight=1)[0])\n",
    "            \n",
    "            bot_env = gen_env(0,101)\n",
    "            final_discovered_grid_world = gen_env(1,101)\n",
    "            t = time.time()\n",
    "            path,cp, count, bumps, planning_time, nodes_disc, kb_len = repeated_astar(bot_env, real_world_grid, [0,0], [100,100], 'm', final_discovered_grid_world, False, 1, 4)\n",
    "            len_kb_q7_bfs += kb_len\n",
    "            nodes_disc_q7_bfs += nodes_disc\n",
    "            planning_time_q7_bfs += planning_time\n",
    "            time_q7_bfs += time.time()-t\n",
    "            bumps_q7_bfs += bumps\n",
    "            trajectory_length = len(print_path(path))\n",
    "            path_length_q7_bfs += len(Astar(final_discovered_grid_world,[0,0],[100,100],'m')[0])\n",
    "            tl_q7_bfs += trajectory_length\n",
    "            cell_processed_q7_bfs += cp\n",
    "            tl_sp_dg_q7_bfs += trajectory_length/len(Astar(final_discovered_grid_world,[0,0],[100,100], 'm', weight=1)[0])\n",
    "            sp_dg_sp_cg_q7_bfs += len(Astar(final_discovered_grid_world,[0,0],[100,100], 'm',weight=1)[0])/ len(Astar(real_world_grid,[0,0],[100,100], 'm', weight=1)[0])\n",
    "            \n",
    "            bot_env = gen_env(0,101)\n",
    "            final_discovered_grid_world = gen_env(1,101)\n",
    "            t = time.time()\n",
    "            path,cp, count, bumps, planning_time, nodes_disc, kb_len = repeated_astar(bot_env, real_world_grid, [0,0], [100,100], 'm', final_discovered_grid_world, False, 1, 5)\n",
    "            len_kb_q8_bfs += kb_len\n",
    "            nodes_disc_q8_bfs += nodes_disc\n",
    "            planning_time_q8_bfs += planning_time\n",
    "            time_q8_bfs += time.time()-t\n",
    "            bumps_q8_bfs += bumps\n",
    "            trajectory_length = len(print_path(path))\n",
    "            path_length_q8_bfs += len(Astar(final_discovered_grid_world,[0,0],[100,100],'m')[0])\n",
    "            tl_q8_bfs += trajectory_length\n",
    "            cell_processed_q8_bfs += cp\n",
    "            tl_sp_dg_q8_bfs += trajectory_length/len(Astar(final_discovered_grid_world,[0,0],[100,100], 'm', weight=1)[0])\n",
    "            sp_dg_sp_cg_q8_bfs += len(Astar(final_discovered_grid_world,[0,0],[100,100], 'm',weight=1)[0])/ len(Astar(real_world_grid,[0,0],[100,100], 'm', weight=1)[0])\n",
    "            \n",
    "        else:\n",
    "            continue\n",
    "    p_list.append(p)\n",
    "    \n",
    "    # taking the average of each sum and storing them in their respective variables\n",
    "    avg_trajectory_length_normal_agent.append(tl_q6/200)\n",
    "    avg_cell_processed_normal_agent.append(cell_processed_q6/200)\n",
    "    average_trajectory_sp_dg_normal_agent.append(tl_sp_dg_q6/200)\n",
    "    average_sp_dg_sp_cg_normal_agent.append(sp_dg_sp_cg_q6/200)\n",
    "    average_bumps_normal_agent.append(bumps_q6/200)\n",
    "    average_time_normal_agent.append(time_q6/200)\n",
    "    average_planning_time_normal_agent.append(planning_time_q6/200)\n",
    "    average_nodes_disc_normal_agent.append(nodes_disc_q6/200)\n",
    "    average_path_length_normal_agent.append(path_length_q6/200)\n",
    "    \n",
    "    \n",
    "    avg_trajectory_length_blind_agent.append(tl_q7/200)\n",
    "    avg_cell_processed_blind_agent.append(cell_processed_q7/200)\n",
    "    average_trajectory_sp_dg_blind_agent.append(tl_sp_dg_q7/200)\n",
    "    average_sp_dg_sp_cg_blind_agent.append(sp_dg_sp_cg_q7/200)\n",
    "    average_bumps_blind_agent.append(bumps_q7/200)\n",
    "    average_time_blind_agent.append(time_q7/200)\n",
    "    average_planning_time_blind_agent.append(planning_time_q7/200)\n",
    "    average_nodes_disc_blind_agent.append(nodes_disc_q7/200)\n",
    "    average_path_length_blind_agent.append(path_length_q7/200)\n",
    "    \n",
    "    avg_trajectory_length_agent3.append(tl_q6_bfs/200)\n",
    "    avg_cell_processed_agent3.append(cell_processed_q6_bfs/200)\n",
    "    average_trajectory_sp_dg_agent3.append(tl_sp_dg_q6_bfs/200)\n",
    "    average_sp_dg_sp_cg_agent3.append(sp_dg_sp_cg_q6_bfs/200)\n",
    "    average_bumps_agent3.append(bumps_q6_bfs/200)\n",
    "    average_time_agent_3.append(time_q6_bfs/200)\n",
    "    average_planning_time_agent3.append(planning_time_q6_bfs/200)\n",
    "    average_nodes_disc_agent3.append(nodes_disc_q6_bfs/200)\n",
    "    average_path_length_agent3.append(path_length_q6_bfs/200)\n",
    "    \n",
    "    avg_trajectory_length_agent4.append(tl_q7_bfs/200)\n",
    "    avg_cell_processed_agent4.append(cell_processed_q7_bfs/200)\n",
    "    average_trajectory_sp_dg_agent4.append(tl_sp_dg_q7_bfs/200)\n",
    "    average_sp_dg_sp_cg_agent4.append(sp_dg_sp_cg_q7_bfs/200)\n",
    "    average_bumps_agent4.append(bumps_q7_bfs/200)\n",
    "    average_time_agent_4.append(time_q7_bfs/200)\n",
    "    average_planning_time_agent4.append(planning_time_q7_bfs/200)\n",
    "    average_nodes_disc_agent4.append(nodes_disc_q7_bfs/200)\n",
    "    average_path_length_agent4.append(path_length_q7_bfs/200)\n",
    "    average_len_kb.append(kb_len/200)\n",
    "    \n",
    "    avg_trajectory_length_agent5.append(tl_q8_bfs/200)\n",
    "    avg_cell_processed_agent5.append(cell_processed_q8_bfs/200)\n",
    "    average_trajectory_sp_dg_agent5.append(tl_sp_dg_q8_bfs/200)\n",
    "    average_sp_dg_sp_cg_agent5.append(sp_dg_sp_cg_q8_bfs/200)\n",
    "    average_bumps_agent5.append(bumps_q8_bfs/200)\n",
    "    average_time_agent_5.append(time_q8_bfs/200)\n",
    "    average_planning_time_agent5.append(planning_time_q8_bfs/200)\n",
    "    average_nodes_disc_agent5.append(nodes_disc_q8_bfs/200)\n",
    "    average_path_length_agent5.append(path_length_q8_bfs/200)\n",
    "#     average_len_kb.append(kb_len/200)\n",
    "    \n",
    "    p += 0.03 # update p value\n",
    "    pbar.update(1) # update the progress bar\n",
    "pbar.close()"
   ]
  },
  {
   "cell_type": "code",
   "execution_count": 95,
   "id": "1f1812b1",
   "metadata": {},
   "outputs": [
    {
     "data": {
      "text/plain": [
       "[0.0,\n",
       " 0.0,\n",
       " 0.02,\n",
       " 0.02,\n",
       " 0.02,\n",
       " 0.02,\n",
       " 0.125,\n",
       " 0.125,\n",
       " 0.125,\n",
       " 0.125,\n",
       " 0.15,\n",
       " 0.15,\n",
       " 0.175,\n",
       " 0.175,\n",
       " 0.19,\n",
       " 0.19,\n",
       " 0.285,\n",
       " 0.285,\n",
       " 0.205,\n",
       " 0.205,\n",
       " 0.36,\n",
       " 0.36]"
      ]
     },
     "execution_count": 95,
     "metadata": {},
     "output_type": "execute_result"
    }
   ],
   "source": [
    "plt.plot(p_list, average_len_kb)"
   ]
  },
  {
   "cell_type": "markdown",
   "id": "078bb7e1",
   "metadata": {},
   "source": [
    "#### Path Length"
   ]
  },
  {
   "cell_type": "code",
   "execution_count": 86,
   "id": "898a1531",
   "metadata": {},
   "outputs": [
    {
     "data": {
      "text/plain": [
       "<matplotlib.legend.Legend at 0x7f91b2f10fa0>"
      ]
     },
     "execution_count": 86,
     "metadata": {},
     "output_type": "execute_result"
    },
    {
     "data": {
      "image/png": "[encoded data removed]",
      "text/plain": [
       "<Figure size 432x288 with 1 Axes>"
      ]
     },
     "metadata": {
      "needs_background": "light"
     },
     "output_type": "display_data"
    }
   ],
   "source": [
    "plt.plot(p_list,average_path_length_agent3, color = 'red')\n",
    "plt.plot(p_list, average_path_length_blind_agent, color = 'blue')\n",
    "plt.plot(p_list,average_path_length_normal_agent, color = 'purple')\n",
    "plt.plot(p_list,average_path_length_agent4, color = 'green')\n",
    "plt.plot(p_list,average_path_length_agent5, color = 'black')\n",
    "plt.plot()\n",
    "plt.xlabel('Value of p')\n",
    "plt.ylabel('Average path length')\n",
    "plt.legend(['Agent-1', 'Agent-2', 'Agent-3', 'Agent-4', 'Agent-5'])"
   ]
  },
  {
   "cell_type": "code",
   "execution_count": 43,
   "id": "e5d6473a",
   "metadata": {},
   "outputs": [
    {
     "data": {
      "text/plain": [
       "Text(0, 0.5, 'Difference in path length')"
      ]
     },
     "execution_count": 43,
     "metadata": {},
     "output_type": "execute_result"
    },
    {
     "data": {
      "image/png": "[encoded data removed]",
      "text/plain": [
       "<Figure size 432x288 with 1 Axes>"
      ]
     },
     "metadata": {
      "needs_background": "light"
     },
     "output_type": "display_data"
    }
   ],
   "source": [
    "temp = []\n",
    "for i in range(len(average_path_length_agent3)):\n",
    "    temp.append(average_path_length_agent3[i] - average_path_length_normal_agent[i]) \n",
    "plt.plot(p_list, temp)\n",
    "plt.xlabel('Density')\n",
    "plt.ylabel('Difference in path length')"
   ]
  },
  {
   "cell_type": "markdown",
   "id": "bace6df5",
   "metadata": {},
   "source": [
    "#### Nodes disc in final disc gridworld"
   ]
  },
  {
   "cell_type": "code",
   "execution_count": 91,
   "id": "23f142b5",
   "metadata": {},
   "outputs": [
    {
     "data": {
      "text/plain": [
       "<matplotlib.legend.Legend at 0x7f91b30fd160>"
      ]
     },
     "execution_count": 91,
     "metadata": {},
     "output_type": "execute_result"
    },
    {
     "data": {
      "image/png": "[encoded data removed]",
      "text/plain": [
       "<Figure size 432x288 with 1 Axes>"
      ]
     },
     "metadata": {
      "needs_background": "light"
     },
     "output_type": "display_data"
    }
   ],
   "source": [
    "plt.plot(p_list,average_nodes_disc_normal_agent, color='red')\n",
    "plt.plot(p_list, average_nodes_disc_blind_agent, color = 'blue')\n",
    "plt.plot(p_list,average_nodes_disc_agent3, color = 'purple')\n",
    "plt.plot(p_list,average_nodes_disc_agent4, color = 'green')\n",
    "plt.plot(p_list,average_nodes_disc_agent5, color = 'black')\n",
    "plt.xlabel('Value of p')\n",
    "plt.ylabel('Number of cells discovered in final grid world')\n",
    "plt.legend(['Agent-1', 'Agent-2', 'Agent-3', 'Agent-4', 'Agent-5'])"
   ]
  },
  {
   "cell_type": "markdown",
   "id": "675c4e3f",
   "metadata": {},
   "source": [
    "#### Planning Time"
   ]
  },
  {
   "cell_type": "code",
   "execution_count": 44,
   "id": "853255d0",
   "metadata": {},
   "outputs": [
    {
     "data": {
      "text/plain": [
       "<matplotlib.legend.Legend at 0x7f91c2685880>"
      ]
     },
     "execution_count": 44,
     "metadata": {},
     "output_type": "execute_result"
    },
    {
     "data": {
      "image/png": "[encoded data removed]",
      "text/plain": [
       "<Figure size 432x288 with 1 Axes>"
      ]
     },
     "metadata": {
      "needs_background": "light"
     },
     "output_type": "display_data"
    }
   ],
   "source": [
    "plt.plot(p_list,average_planning_time_normal_agent, color = 'red')\n",
    "plt.plot(p_list, average_planning_time_blind_agent, color = 'blue')\n",
    "plt.plot(p_list,average_planning_time_agent3, color = 'purple')\n",
    "plt.plot(p_list,average_planning_time_agent4, color = 'green')\n",
    "plt.plot(p_list,average_planning_time_agent5, color = 'black')\n",
    "plt.xlabel('Value of p')\n",
    "plt.ylabel('Average planning Time')\n",
    "plt.legend(['Agent-1', 'Agent-2', 'Agent-3', 'Agent-4', 'Agent-5'])"
   ]
  },
  {
   "cell_type": "markdown",
   "id": "61a1029d",
   "metadata": {},
   "source": [
    "#### Trajectory length"
   ]
  },
  {
   "cell_type": "code",
   "execution_count": 90,
   "id": "fd6d226a",
   "metadata": {},
   "outputs": [
    {
     "data": {
      "text/plain": [
       "<matplotlib.legend.Legend at 0x7f91c2f8b760>"
      ]
     },
     "execution_count": 90,
     "metadata": {},
     "output_type": "execute_result"
    },
    {
     "data": {
      "image/png": "[encoded data removed]",
      "text/plain": [
       "<Figure size 432x288 with 1 Axes>"
      ]
     },
     "metadata": {
      "needs_background": "light"
     },
     "output_type": "display_data"
    }
   ],
   "source": [
    "plt.plot(p_list,avg_trajectory_length_normal_agent, color = 'red')\n",
    "plt.plot(p_list, avg_trajectory_length_blind_agent, color = 'blue')\n",
    "plt.plot(p_list,avg_trajectory_length_agent3, color = 'purple')\n",
    "plt.plot(p_list,avg_trajectory_length_agent4, color = 'green')\n",
    "plt.plot(p_list,avg_trajectory_length_agent5, color = 'black')\n",
    "plt.xlabel('Value of p')\n",
    "plt.ylabel('Average trajectory length')\n",
    "plt.legend(['Agent-1', 'Agent-2', 'Agent-3', 'Agent-4', 'Agent-5'])"
   ]
  },
  {
   "cell_type": "code",
   "execution_count": 55,
   "id": "e0b197b0",
   "metadata": {},
   "outputs": [],
   "source": [
    "traj_diff = []\n",
    "for i in range(len(avg_trajectory_length_agent3)):\n",
    "    traj_diff.append(avg_trajectory_length_normal_agent[i] - avg_trajectory_length_agent3[i])"
   ]
  },
  {
   "cell_type": "code",
   "execution_count": 56,
   "id": "b8982666",
   "metadata": {},
   "outputs": [
    {
     "data": {
      "text/plain": [
       "[<matplotlib.lines.Line2D at 0x7f91e06969d0>]"
      ]
     },
     "execution_count": 56,
     "metadata": {},
     "output_type": "execute_result"
    },
    {
     "data": {
      "image/png": "[encoded data removed]",
      "text/plain": [
       "<Figure size 432x288 with 1 Axes>"
      ]
     },
     "metadata": {
      "needs_background": "light"
     },
     "output_type": "display_data"
    }
   ],
   "source": [
    "plt.plot(p_list, traj_diff)"
   ]
  },
  {
   "cell_type": "code",
   "execution_count": 52,
   "id": "27ee6885",
   "metadata": {},
   "outputs": [],
   "source": [
    "traj_diff = []\n",
    "for i in range(len(avg_trajectory_length_agent3)):\n",
    "    traj_diff.append(avg_trajectory_length_normal_agent[i] - avg_trajectory_length_agent4[i])"
   ]
  },
  {
   "cell_type": "code",
   "execution_count": 53,
   "id": "d47b3015",
   "metadata": {},
   "outputs": [
    {
     "data": {
      "text/plain": [
       "[<matplotlib.lines.Line2D at 0x7fa1e83419a0>]"
      ]
     },
     "execution_count": 53,
     "metadata": {},
     "output_type": "execute_result"
    },
    {
     "data": {
      "image/png": "[encoded data removed]",
      "text/plain": [
       "<Figure size 432x288 with 1 Axes>"
      ]
     },
     "metadata": {
      "needs_background": "light"
     },
     "output_type": "display_data"
    }
   ],
   "source": [
    "plt.plot(p_list, traj_diff)"
   ]
  },
  {
   "cell_type": "markdown",
   "id": "abcf04c1",
   "metadata": {},
   "source": [
    "#### Average cells processed"
   ]
  },
  {
   "cell_type": "code",
   "execution_count": 92,
   "id": "da500315",
   "metadata": {},
   "outputs": [
    {
     "data": {
      "text/plain": [
       "<matplotlib.legend.Legend at 0x7f91d120b6d0>"
      ]
     },
     "execution_count": 92,
     "metadata": {},
     "output_type": "execute_result"
    },
    {
     "data": {
      "image/png": "[encoded data removed]",
      "text/plain": [
       "<Figure size 432x288 with 1 Axes>"
      ]
     },
     "metadata": {
      "needs_background": "light"
     },
     "output_type": "display_data"
    }
   ],
   "source": [
    "plt.plot(p_list,avg_cell_processed_normal_agent, color = 'red')\n",
    "plt.plot(p_list, avg_cell_processed_blind_agent, color = 'blue')\n",
    "plt.plot(p_list,avg_cell_processed_agent3, color = 'purple')\n",
    "plt.plot(p_list,avg_cell_processed_agent4, color = 'green')\n",
    "plt.plot(p_list,avg_cell_processed_agent5, color = 'black')\n",
    "plt.xlabel('Value of p')\n",
    "plt.ylabel('Number of cells processed')\n",
    "plt.legend(['Agent-1', 'Agent-2', 'Agent-3', 'Agent-4', 'Agent-5'])"
   ]
  },
  {
   "cell_type": "markdown",
   "id": "10a53b8a",
   "metadata": {},
   "source": [
    "#### Average Bumps"
   ]
  },
  {
   "cell_type": "code",
   "execution_count": 93,
   "id": "41ec5512",
   "metadata": {},
   "outputs": [
    {
     "data": {
      "text/plain": [
       "<matplotlib.legend.Legend at 0x7f91c303fc10>"
      ]
     },
     "execution_count": 93,
     "metadata": {},
     "output_type": "execute_result"
    },
    {
     "data": {
      "image/png": "[encoded data removed]",
      "text/plain": [
       "<Figure size 432x288 with 1 Axes>"
      ]
     },
     "metadata": {
      "needs_background": "light"
     },
     "output_type": "display_data"
    }
   ],
   "source": [
    "plt.plot(p_list,average_bumps_normal_agent, color = 'red')\n",
    "plt.plot(p_list, average_bumps_blind_agent, color = 'blue')\n",
    "plt.plot(p_list,average_bumps_agent3, color = 'purple')\n",
    "plt.plot(p_list,average_bumps_agent4, color = 'green')\n",
    "plt.plot(p_list,average_bumps_agent5, color = 'black')\n",
    "plt.xlabel('Value of p')\n",
    "plt.ylabel('Number of bumps')\n",
    "plt.legend(['Agent-1', 'Agent-2', 'Agent-3', 'Agent-4', 'Agent-5'])"
   ]
  },
  {
   "cell_type": "markdown",
   "id": "d04181e8",
   "metadata": {},
   "source": [
    "#### Average Time taken"
   ]
  },
  {
   "cell_type": "code",
   "execution_count": 79,
   "id": "cb9ce0ea",
   "metadata": {
    "scrolled": true
   },
   "outputs": [
    {
     "data": {
      "text/plain": [
       "<matplotlib.legend.Legend at 0x7f91c249cc40>"
      ]
     },
     "execution_count": 79,
     "metadata": {},
     "output_type": "execute_result"
    },
    {
     "data": {
      "image/png": "[encoded data removed]",
      "text/plain": [
       "<Figure size 432x288 with 1 Axes>"
      ]
     },
     "metadata": {
      "needs_background": "light"
     },
     "output_type": "display_data"
    }
   ],
   "source": [
    "plt.plot(p_list,average_time_normal_agent, color = '')\n",
    "plt.plot(p_list, average_time_blind_agent, color = '')\n",
    "plt.plot(p_list,average_time_agent_3, color = '')\n",
    "plt.plot(p_list,average_time_agent_4, color = '')\n",
    "plt.plot(p_list,average_time_agent_5, color = '')\n",
    "plt.xlabel('Density')\n",
    "plt.ylabel('Average Computational time')\n",
    "plt.legend(['Agent 1', 'Agent 2', 'Agent 3', 'Agent 4', 'Agent 5'])"
   ]
  },
  {
   "cell_type": "markdown",
   "id": "83e0758a",
   "metadata": {},
   "source": [
    "#### Ratio of shortest path in dg to shortest path in cg"
   ]
  },
  {
   "cell_type": "code",
   "execution_count": 35,
   "id": "b79ee5f0",
   "metadata": {},
   "outputs": [
    {
     "data": {
      "text/plain": [
       "<matplotlib.legend.Legend at 0x7fc978bb14c0>"
      ]
     },
     "execution_count": 35,
     "metadata": {},
     "output_type": "execute_result"
    },
    {
     "data": {
      "image/png": "[encoded data removed]",
      "text/plain": [
       "<Figure size 432x288 with 1 Axes>"
      ]
     },
     "metadata": {
      "needs_background": "light"
     },
     "output_type": "display_data"
    }
   ],
   "source": [
    "plt.plot(p_list,average_sp_dg_sp_cg_normal_agent)\n",
    "plt.plot(p_list,average_sp_dg_sp_cg_blind_agent)\n",
    "plt.plot(p_list,average_sp_dg_sp_cg_agent3)\n",
    "plt.plot(p_list,average_sp_dg_sp_cg_agent4)\n",
    "plt.xlabel('Density')\n",
    "plt.ylabel('SP in DG vs SP in CG')\n",
    "plt.legend(['Agent 5', 'Agent 4'])#, 'Agent 4'])"
   ]
  },
  {
   "cell_type": "markdown",
   "id": "9f2e70eb",
   "metadata": {},
   "source": [
    "#### Trajectory vs SP in DG"
   ]
  },
  {
   "cell_type": "code",
   "execution_count": 36,
   "id": "adb922de",
   "metadata": {},
   "outputs": [
    {
     "data": {
      "text/plain": [
       "<matplotlib.legend.Legend at 0x7fc968c3fb20>"
      ]
     },
     "execution_count": 36,
     "metadata": {},
     "output_type": "execute_result"
    },
    {
     "data": {
      "image/png": "[encoded data removed]",
      "text/plain": [
       "<Figure size 432x288 with 1 Axes>"
      ]
     },
     "metadata": {
      "needs_background": "light"
     },
     "output_type": "display_data"
    }
   ],
   "source": [
    "plt.plot(p_list,average_trajectory_sp_dg_normal_agent)\n",
    "plt.plot(p_list,average_trajectory_sp_dg_blind_agent)\n",
    "plt.plot(p_list,average_trajectory_sp_dg_agent3)\n",
    "plt.plot(p_list,average_trajectory_sp_dg_agent4)\n",
    "plt.xlabel('Density')\n",
    "plt.ylabel('Trajectory vs SP in DG')\n",
    "plt.legend(['Agent 5', 'Agent 4'])#, 'Agent 4'])"
   ]
  },
  {
   "cell_type": "code",
   "execution_count": 59,
   "id": "d749b193",
   "metadata": {},
   "outputs": [],
   "source": [
    "traj_diff = []\n",
    "for i in range(len(avg_trajectory_length_agent3)):\n",
    "    traj_diff.append(average_trajectory_sp_dg_agent3[i] - average_trajectory_sp_dg_agent4[i])"
   ]
  },
  {
   "cell_type": "code",
   "execution_count": 60,
   "id": "65bb98de",
   "metadata": {},
   "outputs": [
    {
     "data": {
      "text/plain": [
       "[<matplotlib.lines.Line2D at 0x7fa20a7645b0>]"
      ]
     },
     "execution_count": 60,
     "metadata": {},
     "output_type": "execute_result"
    },
    {
     "data": {
      "image/png": "[encoded data removed]",
      "text/plain": [
       "<Figure size 432x288 with 1 Axes>"
      ]
     },
     "metadata": {
      "needs_background": "light"
     },
     "output_type": "display_data"
    }
   ],
   "source": [
    "plt.plot(p_list, traj_diff)"
   ]
  },
  {
   "cell_type": "code",
   "execution_count": 61,
   "id": "d373b2d8",
   "metadata": {},
   "outputs": [],
   "source": [
    "traj_diff = []\n",
    "for i in range(len(avg_trajectory_length_agent3)):\n",
    "    traj_diff.append(average_trajectory_sp_dg_normal_agent[i] - average_trajectory_sp_dg_agent4[i])"
   ]
  },
  {
   "cell_type": "code",
   "execution_count": 62,
   "id": "fe7ed1f8",
   "metadata": {},
   "outputs": [
    {
     "data": {
      "text/plain": [
       "[<matplotlib.lines.Line2D at 0x7fa1f88d3f70>]"
      ]
     },
     "execution_count": 62,
     "metadata": {},
     "output_type": "execute_result"
    },
    {
     "data": {
      "image/png": "[encoded data removed]",
      "text/plain": [
       "<Figure size 432x288 with 1 Axes>"
      ]
     },
     "metadata": {
      "needs_background": "light"
     },
     "output_type": "display_data"
    }
   ],
   "source": [
    "plt.plot(p_list, traj_diff)"
   ]
  },
  {
   "cell_type": "markdown",
   "id": "c0068e99",
   "metadata": {},
   "source": [
    "### ------------------------------------------------------------------------------------------------------------------------------"
   ]
  },
  {
   "cell_type": "code",
   "execution_count": 29,
   "id": "d5c04753",
   "metadata": {},
   "outputs": [
    {
     "name": "stdout",
     "output_type": "stream",
     "text": [
      "[[{(0, 1), (1, 0), (1, 1)}, 1], [{(2, 3), (2, 1), (2, 2)}, 2], [{(6, 6), (7, 5), (6, 4)}, 1]]\n"
     ]
    }
   ],
   "source": [
    "print([[{(0,1), (1,0), (1,1)}, 1], [{(2,1), (2,2), (2,3)}, 2], [{(7,5), (6,4), (6,6)}, 1]])"
   ]
  },
  {
   "cell_type": "code",
   "execution_count": null,
   "id": "43a00cbc",
   "metadata": {},
   "outputs": [],
   "source": []
  }
 ],
 "metadata": {
  "kernelspec": {
   "display_name": "Python 3",
   "language": "python",
   "name": "python3"
  },
  "language_info": {
   "codemirror_mode": {
    "name": "ipython",
    "version": 3
   },
   "file_extension": ".py",
   "mimetype": "text/x-python",
   "name": "python",
   "nbconvert_exporter": "python",
   "pygments_lexer": "ipython3",
   "version": "3.8.8"
  }
 },
 "nbformat": 4,
 "nbformat_minor": 5
}
